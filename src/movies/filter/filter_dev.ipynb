{
 "cells": [
  {
   "cell_type": "code",
   "execution_count": 31,
   "metadata": {},
   "outputs": [],
   "source": [
    "import pandas as pd\n",
    "import regex\n",
    "from pathlib import Path"
   ]
  },
  {
   "cell_type": "markdown",
   "metadata": {},
   "source": [
    "### Load Data"
   ]
  },
  {
   "cell_type": "code",
   "execution_count": 32,
   "metadata": {},
   "outputs": [
    {
     "data": {
      "text/plain": "       Unnamed: 0                title  year critics_count  critics_score  \\\n0             0.0  10 Rillington Place  1971    13 Reviews           62.0   \n1             1.0           100 Rifles  1969     2 Reviews            NaN   \n2             2.0  1001 Arabian Nights  1959     0 Reviews            NaN   \n3             3.0    10:30 P.M. Summer  1966     4 Reviews            NaN   \n4             4.0  13 Frightened Girls  1963     3 Reviews            NaN   \n...           ...                  ...   ...           ...            ...   \n19361         NaN   Last Chance Harvey  2008   157 Reviews           71.0   \n19362         NaN           The Spirit  2008   115 Reviews           14.0   \n19363         NaN             Valkyrie  2008   198 Reviews           62.0   \n19364         NaN    Waltz with Bashir  2008   154 Reviews           96.0   \n19365         NaN   Revolutionary Road  2008   215 Reviews           67.0   \n\n         audience_count  audience_score  \\\n0        1,000+ Ratings            85.0   \n1          500+ Ratings            41.0   \n2             0 Ratings             NaN   \n3           50+ Ratings            32.0   \n4           50+ Ratings            17.0   \n...                 ...             ...   \n19361   25,000+ Ratings            53.0   \n19362  100,000+ Ratings            25.0   \n19363  100,000+ Ratings            65.0   \n19364   25,000+ Ratings            91.0   \n19365  100,000+ Ratings            71.0   \n\n                                          suppliers_list  rottentomatoes_year  \\\n0      [('vudu', 'Rent/buy'), ('amazon-prime-video-us...                 1971   \n1      [('vudu', 'Rent/buy'), ('amazon-prime-video-us...                 1969   \n2                                                    NaN                 1959   \n3                                                    NaN                 1966   \n4      [('vudu', 'Rent/buy'), ('amazon-prime-video-us...                 1963   \n...                                                  ...                  ...   \n19361  [('vudu', 'Rent/buy'), ('amazon-prime-video-us...                 2008   \n19362  [('vudu', 'Rent/buy'), ('amazon-prime-video-us...                 2008   \n19363  [('vudu', 'Rent/buy'), ('amazon-prime-video-us...                 2008   \n19364  [('vudu', 'Rent/buy'), ('amazon-prime-video-us...                 2008   \n19365  [('vudu', 'Rent/buy'), ('showtime', 'Subscript...                 2008   \n\n            rottentomatoes_genre rottentomatoes_length  \\\n0                          Drama                1h 51m   \n1                        Western                1h 50m   \n2          Kids & family/Fantasy                1h 15m   \n3       Drama/Mystery & thriller                1h 25m   \n4             Mystery & thriller                1h 29m   \n...                          ...                   ...   \n19361                    Romance                1h 32m   \n19362           Action/Adventure                1h 42m   \n19363              History/Drama                 2h 0m   \n19364      Documentary/Animation                1h 30m   \n19365                      Drama                1h 59m   \n\n                                                 infobox  \n0      {'Directed by': ['Richard Fleischer', '', ''],...  \n1      {'Directed by': ['Tom Gries', '', ''], 'Screen...  \n2      {'Directed by': ['Jack Kinney', '', ''], 'Writ...  \n3      {'Directed by': ['Jules Dassin', '', ''], 'Wri...  \n4      {'Directed by': ['William Castle', '', ''], 'S...  \n...                                                  ...  \n19361  {'Directed by': ['Joel Hopkins', '', ''], 'Wri...  \n19362  {'Directed by': ['Frank Miller', '', ''], 'Scr...  \n19363  {'Directed by': ['Bryan Singer', '', ''], 'Wri...  \n19364  {'Original title': ['', ''], 'Directed by': ['...  \n19365  {'Directed by': ['Sam Mendes', '', ''], 'Scree...  \n\n[19366 rows x 12 columns]",
      "text/html": "<div>\n<style scoped>\n    .dataframe tbody tr th:only-of-type {\n        vertical-align: middle;\n    }\n\n    .dataframe tbody tr th {\n        vertical-align: top;\n    }\n\n    .dataframe thead th {\n        text-align: right;\n    }\n</style>\n<table border=\"1\" class=\"dataframe\">\n  <thead>\n    <tr style=\"text-align: right;\">\n      <th></th>\n      <th>Unnamed: 0</th>\n      <th>title</th>\n      <th>year</th>\n      <th>critics_count</th>\n      <th>critics_score</th>\n      <th>audience_count</th>\n      <th>audience_score</th>\n      <th>suppliers_list</th>\n      <th>rottentomatoes_year</th>\n      <th>rottentomatoes_genre</th>\n      <th>rottentomatoes_length</th>\n      <th>infobox</th>\n    </tr>\n  </thead>\n  <tbody>\n    <tr>\n      <th>0</th>\n      <td>0.0</td>\n      <td>10 Rillington Place</td>\n      <td>1971</td>\n      <td>13 Reviews</td>\n      <td>62.0</td>\n      <td>1,000+ Ratings</td>\n      <td>85.0</td>\n      <td>[('vudu', 'Rent/buy'), ('amazon-prime-video-us...</td>\n      <td>1971</td>\n      <td>Drama</td>\n      <td>1h 51m</td>\n      <td>{'Directed by': ['Richard Fleischer', '', ''],...</td>\n    </tr>\n    <tr>\n      <th>1</th>\n      <td>1.0</td>\n      <td>100 Rifles</td>\n      <td>1969</td>\n      <td>2 Reviews</td>\n      <td>NaN</td>\n      <td>500+ Ratings</td>\n      <td>41.0</td>\n      <td>[('vudu', 'Rent/buy'), ('amazon-prime-video-us...</td>\n      <td>1969</td>\n      <td>Western</td>\n      <td>1h 50m</td>\n      <td>{'Directed by': ['Tom Gries', '', ''], 'Screen...</td>\n    </tr>\n    <tr>\n      <th>2</th>\n      <td>2.0</td>\n      <td>1001 Arabian Nights</td>\n      <td>1959</td>\n      <td>0 Reviews</td>\n      <td>NaN</td>\n      <td>0 Ratings</td>\n      <td>NaN</td>\n      <td>NaN</td>\n      <td>1959</td>\n      <td>Kids &amp; family/Fantasy</td>\n      <td>1h 15m</td>\n      <td>{'Directed by': ['Jack Kinney', '', ''], 'Writ...</td>\n    </tr>\n    <tr>\n      <th>3</th>\n      <td>3.0</td>\n      <td>10:30 P.M. Summer</td>\n      <td>1966</td>\n      <td>4 Reviews</td>\n      <td>NaN</td>\n      <td>50+ Ratings</td>\n      <td>32.0</td>\n      <td>NaN</td>\n      <td>1966</td>\n      <td>Drama/Mystery &amp; thriller</td>\n      <td>1h 25m</td>\n      <td>{'Directed by': ['Jules Dassin', '', ''], 'Wri...</td>\n    </tr>\n    <tr>\n      <th>4</th>\n      <td>4.0</td>\n      <td>13 Frightened Girls</td>\n      <td>1963</td>\n      <td>3 Reviews</td>\n      <td>NaN</td>\n      <td>50+ Ratings</td>\n      <td>17.0</td>\n      <td>[('vudu', 'Rent/buy'), ('amazon-prime-video-us...</td>\n      <td>1963</td>\n      <td>Mystery &amp; thriller</td>\n      <td>1h 29m</td>\n      <td>{'Directed by': ['William Castle', '', ''], 'S...</td>\n    </tr>\n    <tr>\n      <th>...</th>\n      <td>...</td>\n      <td>...</td>\n      <td>...</td>\n      <td>...</td>\n      <td>...</td>\n      <td>...</td>\n      <td>...</td>\n      <td>...</td>\n      <td>...</td>\n      <td>...</td>\n      <td>...</td>\n      <td>...</td>\n    </tr>\n    <tr>\n      <th>19361</th>\n      <td>NaN</td>\n      <td>Last Chance Harvey</td>\n      <td>2008</td>\n      <td>157 Reviews</td>\n      <td>71.0</td>\n      <td>25,000+ Ratings</td>\n      <td>53.0</td>\n      <td>[('vudu', 'Rent/buy'), ('amazon-prime-video-us...</td>\n      <td>2008</td>\n      <td>Romance</td>\n      <td>1h 32m</td>\n      <td>{'Directed by': ['Joel Hopkins', '', ''], 'Wri...</td>\n    </tr>\n    <tr>\n      <th>19362</th>\n      <td>NaN</td>\n      <td>The Spirit</td>\n      <td>2008</td>\n      <td>115 Reviews</td>\n      <td>14.0</td>\n      <td>100,000+ Ratings</td>\n      <td>25.0</td>\n      <td>[('vudu', 'Rent/buy'), ('amazon-prime-video-us...</td>\n      <td>2008</td>\n      <td>Action/Adventure</td>\n      <td>1h 42m</td>\n      <td>{'Directed by': ['Frank Miller', '', ''], 'Scr...</td>\n    </tr>\n    <tr>\n      <th>19363</th>\n      <td>NaN</td>\n      <td>Valkyrie</td>\n      <td>2008</td>\n      <td>198 Reviews</td>\n      <td>62.0</td>\n      <td>100,000+ Ratings</td>\n      <td>65.0</td>\n      <td>[('vudu', 'Rent/buy'), ('amazon-prime-video-us...</td>\n      <td>2008</td>\n      <td>History/Drama</td>\n      <td>2h 0m</td>\n      <td>{'Directed by': ['Bryan Singer', '', ''], 'Wri...</td>\n    </tr>\n    <tr>\n      <th>19364</th>\n      <td>NaN</td>\n      <td>Waltz with Bashir</td>\n      <td>2008</td>\n      <td>154 Reviews</td>\n      <td>96.0</td>\n      <td>25,000+ Ratings</td>\n      <td>91.0</td>\n      <td>[('vudu', 'Rent/buy'), ('amazon-prime-video-us...</td>\n      <td>2008</td>\n      <td>Documentary/Animation</td>\n      <td>1h 30m</td>\n      <td>{'Original title': ['', ''], 'Directed by': ['...</td>\n    </tr>\n    <tr>\n      <th>19365</th>\n      <td>NaN</td>\n      <td>Revolutionary Road</td>\n      <td>2008</td>\n      <td>215 Reviews</td>\n      <td>67.0</td>\n      <td>100,000+ Ratings</td>\n      <td>71.0</td>\n      <td>[('vudu', 'Rent/buy'), ('showtime', 'Subscript...</td>\n      <td>2008</td>\n      <td>Drama</td>\n      <td>1h 59m</td>\n      <td>{'Directed by': ['Sam Mendes', '', ''], 'Scree...</td>\n    </tr>\n  </tbody>\n</table>\n<p>19366 rows × 12 columns</p>\n</div>"
     },
     "execution_count": 32,
     "metadata": {},
     "output_type": "execute_result"
    }
   ],
   "source": [
    "\"\"\"\n",
    "Get all Files and concatenate\n",
    "\"\"\"\n",
    "# Path to data files (might change)\n",
    "parent_path = Path(\"..\", \"movies\").absolute()\n",
    "\n",
    "files_path: list[Path] = []\n",
    "for data_path in parent_path.iterdir():\n",
    "    if regex.match(\".+/film_info_part_\\d.csv$\", str(data_path)) != None:\n",
    "        files_path.append(data_path)\n",
    "\n",
    "# read all datafiles and concatenate in pandas\n",
    "dfs = []\n",
    "lengths = []\n",
    "for file in files_path:\n",
    "    df = pd.read_csv(file)\n",
    "    lengths.append(len(df))\n",
    "    dfs.append(df)\n",
    "\n",
    "dataframe = pd.concat(dfs, ignore_index=True)\n",
    "dataframe"
   ]
  },
  {
   "cell_type": "markdown",
   "metadata": {},
   "source": [
    "### Filter titles"
   ]
  },
  {
   "cell_type": "code",
   "execution_count": 33,
   "metadata": {},
   "outputs": [],
   "source": [
    "# There shouldn't be any losses here\n",
    "dataframe = dataframe.loc[~(dataframe[\"title\"].isnull() | dataframe[\"title\"].isna())]"
   ]
  },
  {
   "cell_type": "code",
   "execution_count": 34,
   "metadata": {},
   "outputs": [
    {
     "data": {
      "text/plain": "       Unnamed: 0                title  year critics_count  critics_score  \\\n0             0.0  10 Rillington Place  1971    13 Reviews           62.0   \n1             1.0           100 Rifles  1969     2 Reviews            NaN   \n2             2.0  1001 Arabian Nights  1959     0 Reviews            NaN   \n3             3.0    10:30 P.M. Summer  1966     4 Reviews            NaN   \n4             4.0  13 Frightened Girls  1963     3 Reviews            NaN   \n...           ...                  ...   ...           ...            ...   \n19361         NaN   Last Chance Harvey  2008   157 Reviews           71.0   \n19362         NaN           The Spirit  2008   115 Reviews           14.0   \n19363         NaN             Valkyrie  2008   198 Reviews           62.0   \n19364         NaN    Waltz with Bashir  2008   154 Reviews           96.0   \n19365         NaN   Revolutionary Road  2008   215 Reviews           67.0   \n\n         audience_count  audience_score  \\\n0        1,000+ Ratings            85.0   \n1          500+ Ratings            41.0   \n2             0 Ratings             NaN   \n3           50+ Ratings            32.0   \n4           50+ Ratings            17.0   \n...                 ...             ...   \n19361   25,000+ Ratings            53.0   \n19362  100,000+ Ratings            25.0   \n19363  100,000+ Ratings            65.0   \n19364   25,000+ Ratings            91.0   \n19365  100,000+ Ratings            71.0   \n\n                                          suppliers_list  rottentomatoes_year  \\\n0      [('vudu', 'Rent/buy'), ('amazon-prime-video-us...                 1971   \n1      [('vudu', 'Rent/buy'), ('amazon-prime-video-us...                 1969   \n2                                                    NaN                 1959   \n3                                                    NaN                 1966   \n4      [('vudu', 'Rent/buy'), ('amazon-prime-video-us...                 1963   \n...                                                  ...                  ...   \n19361  [('vudu', 'Rent/buy'), ('amazon-prime-video-us...                 2008   \n19362  [('vudu', 'Rent/buy'), ('amazon-prime-video-us...                 2008   \n19363  [('vudu', 'Rent/buy'), ('amazon-prime-video-us...                 2008   \n19364  [('vudu', 'Rent/buy'), ('amazon-prime-video-us...                 2008   \n19365  [('vudu', 'Rent/buy'), ('showtime', 'Subscript...                 2008   \n\n            rottentomatoes_genre rottentomatoes_length  \\\n0                          Drama                1h 51m   \n1                        Western                1h 50m   \n2          Kids & family/Fantasy                1h 15m   \n3       Drama/Mystery & thriller                1h 25m   \n4             Mystery & thriller                1h 29m   \n...                          ...                   ...   \n19361                    Romance                1h 32m   \n19362           Action/Adventure                1h 42m   \n19363              History/Drama                 2h 0m   \n19364      Documentary/Animation                1h 30m   \n19365                      Drama                1h 59m   \n\n                                                 infobox  \n0      {'Directed by': ['Richard Fleischer', '', ''],...  \n1      {'Directed by': ['Tom Gries', '', ''], 'Screen...  \n2      {'Directed by': ['Jack Kinney', '', ''], 'Writ...  \n3      {'Directed by': ['Jules Dassin', '', ''], 'Wri...  \n4      {'Directed by': ['William Castle', '', ''], 'S...  \n...                                                  ...  \n19361  {'Directed by': ['Joel Hopkins', '', ''], 'Wri...  \n19362  {'Directed by': ['Frank Miller', '', ''], 'Scr...  \n19363  {'Directed by': ['Bryan Singer', '', ''], 'Wri...  \n19364  {'Original title': ['', ''], 'Directed by': ['...  \n19365  {'Directed by': ['Sam Mendes', '', ''], 'Scree...  \n\n[19366 rows x 12 columns]",
      "text/html": "<div>\n<style scoped>\n    .dataframe tbody tr th:only-of-type {\n        vertical-align: middle;\n    }\n\n    .dataframe tbody tr th {\n        vertical-align: top;\n    }\n\n    .dataframe thead th {\n        text-align: right;\n    }\n</style>\n<table border=\"1\" class=\"dataframe\">\n  <thead>\n    <tr style=\"text-align: right;\">\n      <th></th>\n      <th>Unnamed: 0</th>\n      <th>title</th>\n      <th>year</th>\n      <th>critics_count</th>\n      <th>critics_score</th>\n      <th>audience_count</th>\n      <th>audience_score</th>\n      <th>suppliers_list</th>\n      <th>rottentomatoes_year</th>\n      <th>rottentomatoes_genre</th>\n      <th>rottentomatoes_length</th>\n      <th>infobox</th>\n    </tr>\n  </thead>\n  <tbody>\n    <tr>\n      <th>0</th>\n      <td>0.0</td>\n      <td>10 Rillington Place</td>\n      <td>1971</td>\n      <td>13 Reviews</td>\n      <td>62.0</td>\n      <td>1,000+ Ratings</td>\n      <td>85.0</td>\n      <td>[('vudu', 'Rent/buy'), ('amazon-prime-video-us...</td>\n      <td>1971</td>\n      <td>Drama</td>\n      <td>1h 51m</td>\n      <td>{'Directed by': ['Richard Fleischer', '', ''],...</td>\n    </tr>\n    <tr>\n      <th>1</th>\n      <td>1.0</td>\n      <td>100 Rifles</td>\n      <td>1969</td>\n      <td>2 Reviews</td>\n      <td>NaN</td>\n      <td>500+ Ratings</td>\n      <td>41.0</td>\n      <td>[('vudu', 'Rent/buy'), ('amazon-prime-video-us...</td>\n      <td>1969</td>\n      <td>Western</td>\n      <td>1h 50m</td>\n      <td>{'Directed by': ['Tom Gries', '', ''], 'Screen...</td>\n    </tr>\n    <tr>\n      <th>2</th>\n      <td>2.0</td>\n      <td>1001 Arabian Nights</td>\n      <td>1959</td>\n      <td>0 Reviews</td>\n      <td>NaN</td>\n      <td>0 Ratings</td>\n      <td>NaN</td>\n      <td>NaN</td>\n      <td>1959</td>\n      <td>Kids &amp; family/Fantasy</td>\n      <td>1h 15m</td>\n      <td>{'Directed by': ['Jack Kinney', '', ''], 'Writ...</td>\n    </tr>\n    <tr>\n      <th>3</th>\n      <td>3.0</td>\n      <td>10:30 P.M. Summer</td>\n      <td>1966</td>\n      <td>4 Reviews</td>\n      <td>NaN</td>\n      <td>50+ Ratings</td>\n      <td>32.0</td>\n      <td>NaN</td>\n      <td>1966</td>\n      <td>Drama/Mystery &amp; thriller</td>\n      <td>1h 25m</td>\n      <td>{'Directed by': ['Jules Dassin', '', ''], 'Wri...</td>\n    </tr>\n    <tr>\n      <th>4</th>\n      <td>4.0</td>\n      <td>13 Frightened Girls</td>\n      <td>1963</td>\n      <td>3 Reviews</td>\n      <td>NaN</td>\n      <td>50+ Ratings</td>\n      <td>17.0</td>\n      <td>[('vudu', 'Rent/buy'), ('amazon-prime-video-us...</td>\n      <td>1963</td>\n      <td>Mystery &amp; thriller</td>\n      <td>1h 29m</td>\n      <td>{'Directed by': ['William Castle', '', ''], 'S...</td>\n    </tr>\n    <tr>\n      <th>...</th>\n      <td>...</td>\n      <td>...</td>\n      <td>...</td>\n      <td>...</td>\n      <td>...</td>\n      <td>...</td>\n      <td>...</td>\n      <td>...</td>\n      <td>...</td>\n      <td>...</td>\n      <td>...</td>\n      <td>...</td>\n    </tr>\n    <tr>\n      <th>19361</th>\n      <td>NaN</td>\n      <td>Last Chance Harvey</td>\n      <td>2008</td>\n      <td>157 Reviews</td>\n      <td>71.0</td>\n      <td>25,000+ Ratings</td>\n      <td>53.0</td>\n      <td>[('vudu', 'Rent/buy'), ('amazon-prime-video-us...</td>\n      <td>2008</td>\n      <td>Romance</td>\n      <td>1h 32m</td>\n      <td>{'Directed by': ['Joel Hopkins', '', ''], 'Wri...</td>\n    </tr>\n    <tr>\n      <th>19362</th>\n      <td>NaN</td>\n      <td>The Spirit</td>\n      <td>2008</td>\n      <td>115 Reviews</td>\n      <td>14.0</td>\n      <td>100,000+ Ratings</td>\n      <td>25.0</td>\n      <td>[('vudu', 'Rent/buy'), ('amazon-prime-video-us...</td>\n      <td>2008</td>\n      <td>Action/Adventure</td>\n      <td>1h 42m</td>\n      <td>{'Directed by': ['Frank Miller', '', ''], 'Scr...</td>\n    </tr>\n    <tr>\n      <th>19363</th>\n      <td>NaN</td>\n      <td>Valkyrie</td>\n      <td>2008</td>\n      <td>198 Reviews</td>\n      <td>62.0</td>\n      <td>100,000+ Ratings</td>\n      <td>65.0</td>\n      <td>[('vudu', 'Rent/buy'), ('amazon-prime-video-us...</td>\n      <td>2008</td>\n      <td>History/Drama</td>\n      <td>2h 0m</td>\n      <td>{'Directed by': ['Bryan Singer', '', ''], 'Wri...</td>\n    </tr>\n    <tr>\n      <th>19364</th>\n      <td>NaN</td>\n      <td>Waltz with Bashir</td>\n      <td>2008</td>\n      <td>154 Reviews</td>\n      <td>96.0</td>\n      <td>25,000+ Ratings</td>\n      <td>91.0</td>\n      <td>[('vudu', 'Rent/buy'), ('amazon-prime-video-us...</td>\n      <td>2008</td>\n      <td>Documentary/Animation</td>\n      <td>1h 30m</td>\n      <td>{'Original title': ['', ''], 'Directed by': ['...</td>\n    </tr>\n    <tr>\n      <th>19365</th>\n      <td>NaN</td>\n      <td>Revolutionary Road</td>\n      <td>2008</td>\n      <td>215 Reviews</td>\n      <td>67.0</td>\n      <td>100,000+ Ratings</td>\n      <td>71.0</td>\n      <td>[('vudu', 'Rent/buy'), ('showtime', 'Subscript...</td>\n      <td>2008</td>\n      <td>Drama</td>\n      <td>1h 59m</td>\n      <td>{'Directed by': ['Sam Mendes', '', ''], 'Scree...</td>\n    </tr>\n  </tbody>\n</table>\n<p>19366 rows × 12 columns</p>\n</div>"
     },
     "execution_count": 34,
     "metadata": {},
     "output_type": "execute_result"
    }
   ],
   "source": [
    "dataframe"
   ]
  },
  {
   "cell_type": "markdown",
   "metadata": {},
   "source": [
    "### Filter Infobox"
   ]
  },
  {
   "cell_type": "code",
   "execution_count": 35,
   "metadata": {},
   "outputs": [
    {
     "name": "stdout",
     "output_type": "stream",
     "text": [
      "{'produced_by': 17451, 'distributed_by': 16310, 'language': 18301, 'screenplay_by': 6186, 'based_on': 5749, 'edited_by': 16629, 'music_by': 16598, 'cinematography': 16931, 'directed_by': 18745, 'release_date': 18434, 'production_company': 13736, 'country': 18191, 'running_time': 17872, 'starring': 18193, 'box_office': 11383, 'budget': 8976, 'color_proces': 434, 'written_by': 14545, 'narrated_by': 451, 'adapted_by': 19, 'text': 3, 'original_title': 26, 'published_by': 88, 'illustrated_by': 21, 'author': 40, 'published': 17, '': 2697, 'released': 1453, 'media_type': 22, 'genre': 196, 'recorded': 586, 'length': 990, 'dialogue_by': 15, 'country_of_origin': 192, 'original_release': 200, 'original_language': 208, 'original_network': 190, 'additional_dialogue_by': 4, 'original_air_date': 3, 'featured_music': 2, 'teleplay_by': 3, 'literally': 131, 'publication_date': 32, 'theme_music_composer': 65, 'studio': 115, 'date_premiered': 16, 'place_premiered': 12, 'animation_by': 19, 'end_date': 2, 'launch_date': 2, 'cover_artist': 3, 'setting': 13, 'schedule': 1, 'main_character': 1, 'format': 1, 'of_issue': 1, 'artist': 1, 'character': 9, 'compiler': 4, 'followed_by': 30, 'composer': 27, 'preceded_by': 31, 'sery': 6, 'page': 20, 'production_code': 3, 'episode': 25, 'italian': 4, 'additional_material_by': 1, 'backgrounds_by': 4, 'subject': 6, 'runtime': 39, 'licensed_by': 39, 'original_screenplay_by': 1, 'comic': 2, 'musical': 1, 'animated_sery': 2, 'soundtrack': 3, 'original_work': 6, 'created_by': 16, 'direct-to-video': 2, 'owner': 6, 'video_game': 4, 'current_statu/schedule': 1, 'film': 6, 'short_film': 3, 'year': 6, 'comic_strip': 1, 'television_special': 3, 'opening_theme': 2, 'production_location': 43, 'of_episode': 15, 'ending_theme': 1, 'additional_story_material_by': 1, 'of_season': 4, 'picture_format': 59, 'executive_producer': 88, 'related': 3, 'audio_format': 50, 'also_known_a': 4, 'spanish': 205, 'serbo-croatian': 1, 'camera_setup': 5, 'narration_by': 2, 'literal_meaning': 5, 'russian': 3, 'layouts_by': 4, 'screen_story_by': 4, 'award': 3, 'volume': 52, 'imprint': 19, 'demographic': 52, 'original_run': 52, 'magazine': 53, 'english_publisher': 34, 'date': 1, 'venue': 14, 'city': 1, 'english_network': 12, 'english_magazine': 4, 'translator': 4, 'audio_read_by': 1, 'script_editor': 1, 'first_broadcast': 1, 'lyric': 3, 'basis': 3, 'production': 3, 'music': 3, 'english': 1, 'segment_producer': 1, 'catalan': 9, 'of_sery': 2, 'mode': 4, 'french': 2, 'published_in_english': 2, 'german': 1, 'voices_of': 1, 'presented_by': 3, 'korean': 1, 'website': 1, 'television_film': 1, 'theme_park_attraction': 1, 'web_sery': 1, 'play': 1, 'galician': 1, 'player': 1, 'playing_time': 1, 'set_in': 1, 'translation': 1, 'dialogues_by': 1}\n"
     ]
    }
   ],
   "source": [
    "\"\"\"\n",
    "We want to preserve as much information as possible\n",
    "The most important ones are budget, box office and release date (with month) which will have to be included\n",
    "\"\"\"\n",
    "import json\n",
    "\n",
    "# Create pattern that ONLY changes \" to ' when not needed for Names/language e.g.: \"Edmond O'Brian\"\n",
    "_quote_mark_pattern = regex.compile(\"([A-Za-z][A-Za-z\\s]+\\\"[A-Za-z]+)(?=[^\\\"]*\\\".*)\")\n",
    "_release_pattern = regex.compile(r\"(\\\\xa0(?=\\d+)(\\d+))\") # double enclosure group, potentially leading 0 \n",
    "_structured_number_pattern = regex.compile('(?<=\\\".?)((\\d+,?)+)(?=\\\")') # commas within natural numbers\n",
    "_too_many_quotes_pattern = regex.compile('(\\\"{3,})')    # if 3 or more behind each other\n",
    "\n",
    "def to_dict_transformer(x: str) -> dict | None:\n",
    "    x = x.replace(\"'\", \"\\\"\")    # needed for json\n",
    "    # revert wanted '\n",
    "    for p in _quote_mark_pattern.findall(x):\n",
    "        x = x.replace(p, p.replace(\"\\\"\", \"'\"))\n",
    "\n",
    "    # replace broken numbers with correct ones\n",
    "    # for broken, nums in _release_pattern.findall(x):\n",
    "    #     x = x.replace(broken, f\" {int(nums)}\") \n",
    "    x = x.replace(\"\\\\xa0\", \" \")\n",
    "    \n",
    "    for broken, _ in _structured_number_pattern.findall(x):\n",
    "        x = x.replace(broken, broken.replace(\",\", \"\"))\n",
    "\n",
    "    for p in _too_many_quotes_pattern.findall(x):\n",
    "        x = x.replace(p, '\"\"')\n",
    "\n",
    "    try:\n",
    "        ret_val: dict = json.loads(x)\n",
    "    except:\n",
    "        ret_val = None  # most errors should now be fixed anyway\n",
    "    return ret_val\n",
    "\n",
    "# _str = 'ributed by\": [\"Loew\"s, Inc.\", \"\", \"\"], \"Release date\": [\"J'\n",
    "# print(_quote_mark_pattern.findall(_str))\n",
    "\n",
    "\"\"\"\n",
    "We can't use dataframe.transform here since then all the \" and ' replacements are just reversed by panda\n",
    "-> create new tags for each category at once\n",
    "\"\"\"\n",
    "dicts: list[dict[str, str] | None] = []\n",
    "for dict_str in dataframe[\"infobox\"]:\n",
    "    dicts.append(to_dict_transformer(dict_str))\n",
    "\n",
    "\n",
    "# Pattern that recognizes plural (s at end, not ies) and removes it\n",
    "# words shorter than 3 letters are not plurals\n",
    "_plural_pattern = regex.compile(\"(?<!i)(?<=[A-za-z]{3,})s(?=_?)(?![A-za-z])\")\n",
    "\n",
    "synonyms_dict = {}\n",
    "local_path = Path(\"..\", \"filter\").absolute()\n",
    "with open(Path(local_path, \"synonyms.json\")) as syns:\n",
    "    synonyms_list: list[dict] = json.load(syns)\n",
    "    # pack into one dict\n",
    "    for _dic in synonyms_list:\n",
    "        for _key, _list in _dic.items():\n",
    "            synonyms_dict[_key] = _list\n",
    "\n",
    "# create reverse lookup table\n",
    "reverse_synonym_dict = {item: _key for _key, _list in synonyms_dict.items() for item in _list}\n",
    "\n",
    "def replace_synonyms(in_str: str) -> str:\n",
    "    base_synonym = reverse_synonym_dict.get(in_str)\n",
    "    return base_synonym if base_synonym else in_str\n",
    "\n",
    "def normalize_keys(in_str: str) -> str:\n",
    "    # basic compression\n",
    "    in_str = in_str.lower().strip().replace(\" \", \"_\")\n",
    "    # somtimes numbers are somehow included which we're gonna remove to get a smaller set\n",
    "    # we're also gonna remove enclosing brackets around a letter\n",
    "    in_str = regex.sub(\"\\d|\\(|\\)\", \"\", in_str)\n",
    "    # some tags are given are in plural some in singular. We're gonna reduce that to always singular by \n",
    "    # simply assuming that only plurals end with 's'ArithmeticError\n",
    "    in_str = regex.sub(\"ies\", \"y\", in_str)\n",
    "    # apply regex based plural filter\n",
    "    in_str = _plural_pattern.sub(\"\", in_str)\n",
    "\n",
    "    return in_str\n",
    "\n",
    "category_counter: dict[str, int] = dict()\n",
    "# normalize categories\n",
    "for dic in dicts:\n",
    "    if dic != None:\n",
    "        key_copy = set(dic.keys())\n",
    "        for c_key in key_copy:\n",
    "            normalized_key = normalize_keys(c_key)\n",
    "            \n",
    "            # replace synonyms\n",
    "            normalized_key = replace_synonyms(normalized_key)\n",
    "\n",
    "            dic[normalized_key] = dic.pop(c_key)\n",
    "\n",
    "            # add new entry or increase counter\n",
    "            if category_counter.get(normalized_key):\n",
    "                category_counter[normalized_key] += 1\n",
    "            else:\n",
    "                category_counter[normalized_key] = 1\n",
    "\n",
    "print(category_counter)"
   ]
  },
  {
   "cell_type": "markdown",
   "metadata": {},
   "source": [
    "### Convert Info Box into new Tags"
   ]
  },
  {
   "cell_type": "code",
   "execution_count": 36,
   "metadata": {},
   "outputs": [],
   "source": [
    "\"\"\"\n",
    "Split dictionary into single data types for easier referencing\n",
    "\"\"\"\n",
    "# how much percent of the tag with the most occurences another tag MUST have to be included in the dataset\n",
    "INCLUSION_MARGIN = 1/3\n",
    "MAX_COUNT = max(category_counter.values())\n",
    "LOWER_BOUNDARY = int(INCLUSION_MARGIN * MAX_COUNT)\n",
    "\n",
    "assert(len(dicts) == len(dataframe))\n",
    "\n",
    "valid_tags: list[tuple[str, int]] = list(filter(lambda _tag_val_tup: _tag_val_tup[1] >= LOWER_BOUNDARY, category_counter.items()))\n",
    "new_col_dict: dict[str, list] = {_key: [] for _key, _ in valid_tags}\n",
    "\n",
    "for dic in dicts:\n",
    "    for tag, _ in valid_tags:\n",
    "        if dic: # could be None if not readable\n",
    "            # get all rows with this tag and add as column to dataframe\n",
    "            item: str | None = dic.get(tag)\n",
    "            new_col_dict[tag].append(item)\n",
    "        else:\n",
    "            new_col_dict[tag].append(None)\n",
    "\n",
    "# check for any lost items\n",
    "for _tag, _list in new_col_dict.items():\n",
    "    assert(len(_list) == len(dataframe))\n",
    "\n",
    "# add columns to dataframe\n",
    "existing_keys = list(dataframe.keys())\n",
    "for _tag, _list in new_col_dict.items():\n",
    "    # prevent overwriting\n",
    "    if _tag in existing_keys:\n",
    "        _tag += \"_info\"\n",
    "    dataframe[_tag] = _list"
   ]
  },
  {
   "cell_type": "markdown",
   "metadata": {},
   "source": [
    "### Filter length"
   ]
  },
  {
   "cell_type": "code",
   "execution_count": 37,
   "metadata": {},
   "outputs": [],
   "source": [
    "\"\"\"\n",
    "We might want to include the runtime and convert it into minutes only \n",
    "\"\"\"\n",
    "\n",
    "_pattern = regex.compile(\"^(\\d+)h (\\d+)m$\")\n",
    "def movie_runtime_transformer(x):\n",
    "    match = _pattern.match(x.strip())\n",
    "    # convert into minutes only\n",
    "    ret_val = None\n",
    "    if match:\n",
    "        ret_val = int(match.group(1))*60 + int(match.group(2))\n",
    "    return ret_val\n",
    "\n",
    "# replace original length\n",
    "dataframe[\"rottentomatoes_length\"] = dataframe[\"rottentomatoes_length\"].transform(movie_runtime_transformer)"
   ]
  },
  {
   "cell_type": "markdown",
   "metadata": {},
   "source": [
    "### Filter Review counts"
   ]
  },
  {
   "cell_type": "code",
   "execution_count": 38,
   "metadata": {},
   "outputs": [
    {
     "data": {
      "text/plain": "       Unnamed: 0                title  year  critics_count  critics_score  \\\n0             0.0  10 Rillington Place  1971             13           62.0   \n1             1.0           100 Rifles  1969              2            NaN   \n2             2.0  1001 Arabian Nights  1959              0            NaN   \n3             3.0    10:30 P.M. Summer  1966              4            NaN   \n4             4.0  13 Frightened Girls  1963              3            NaN   \n...           ...                  ...   ...            ...            ...   \n19361         NaN   Last Chance Harvey  2008            157           71.0   \n19362         NaN           The Spirit  2008            115           14.0   \n19363         NaN             Valkyrie  2008            198           62.0   \n19364         NaN    Waltz with Bashir  2008            154           96.0   \n19365         NaN   Revolutionary Road  2008            215           67.0   \n\n       audience_count  audience_score  \\\n0                1000            85.0   \n1                 500            41.0   \n2                   0             NaN   \n3                  50            32.0   \n4                  50            17.0   \n...               ...             ...   \n19361           25000            53.0   \n19362          100000            25.0   \n19363          100000            65.0   \n19364           25000            91.0   \n19365          100000            71.0   \n\n                                          suppliers_list  rottentomatoes_year  \\\n0      [('vudu', 'Rent/buy'), ('amazon-prime-video-us...                 1971   \n1      [('vudu', 'Rent/buy'), ('amazon-prime-video-us...                 1969   \n2                                                    NaN                 1959   \n3                                                    NaN                 1966   \n4      [('vudu', 'Rent/buy'), ('amazon-prime-video-us...                 1963   \n...                                                  ...                  ...   \n19361  [('vudu', 'Rent/buy'), ('amazon-prime-video-us...                 2008   \n19362  [('vudu', 'Rent/buy'), ('amazon-prime-video-us...                 2008   \n19363  [('vudu', 'Rent/buy'), ('amazon-prime-video-us...                 2008   \n19364  [('vudu', 'Rent/buy'), ('amazon-prime-video-us...                 2008   \n19365  [('vudu', 'Rent/buy'), ('showtime', 'Subscript...                 2008   \n\n            rottentomatoes_genre  ...             cinematography  \\\n0                          Drama  ...           [Denys Coop, , ]   \n1                        Western  ...     [Cecilio Paniagua, , ]   \n2          Kids & family/Fantasy  ...                       None   \n3       Drama/Mystery & thriller  ...         [Gábor Pogány, , ]   \n4             Mystery & thriller  ...          [Gordon Avil, , ]   \n...                          ...  ...                        ...   \n19361                    Romance  ...       [John de Borman, , ]   \n19362           Action/Adventure  ...            [Bill Pope, , ]   \n19363              History/Drama  ...  [Newton Thomas Sigel, , ]   \n19364      Documentary/Animation  ...                       None   \n19365                      Drama  ...        [Roger Deakins, , ]   \n\n                   directed_by  \\\n0      [Richard Fleischer, , ]   \n1              [Tom Gries, , ]   \n2            [Jack Kinney, , ]   \n3           [Jules Dassin, , ]   \n4         [William Castle, , ]   \n...                        ...   \n19361       [Joel Hopkins, , ]   \n19362       [Frank Miller, , ]   \n19363       [Bryan Singer, , ]   \n19364         [Ari Folman, , ]   \n19365         [Sam Mendes, , ]   \n\n                                            release_date  \\\n0                      [29 January 1971,  (UK), \\n \\n, ]   \n1                              [March 26, 1969, \\n \\n, ]   \n2                            [December 1, 1959, \\n \\n, ]   \n3                            [October 24, 1966, \\n \\n, ]   \n4                                   [July 1963, \\n \\n, ]   \n...                                                  ...   \n19361                       [December 25, 2008, \\n \\n, ]   \n19362                       [December 25, 2008, \\n \\n, ]   \n19363     [December 25, 2008,  (United States), \\n \\n, ]   \n19364  [13 May 2008,  (, ), 5 June 2008,  (Israel), C...   \n19365  [December 26, 2008,  (United States), January ...   \n\n                                      production_company  \\\n0               [Genesis Productions, Filmways Pictures]   \n1                        [Marvin Schwartz Productions, ]   \n2                                                [, UPA]   \n3                                                   None   \n4                            [William Castle Pictures, ]   \n...                                                  ...   \n19361                                               None   \n19362  [, OddLot Entertainment DarkLot Entertainment ...   \n19363  [, , United Artists, Bad Hat Harry Productions...   \n19364  [, , Bridgit Folman Film Gang, Les Films d'Ici...   \n19365  [, , Evamere Entertainment, Paramount Vantage,...   \n\n                                        country       running_time  \\\n0                          [United Kingdom, , ]      [111 min, , ]   \n1                           [United States, , ]  [110 minutes, , ]   \n2                           [United States, , ]   [75 minutes, , ]   \n3                           [United States, , ]   [85 minutes, , ]   \n4                           [United States, , ]   [89 minutes, , ]   \n...                                         ...                ...   \n19361                       [United States, , ]   [92 minutes, , ]   \n19362                       [United States, , ]  [103 minutes, , ]   \n19363         [United States, Germany, \\n \\n, ]  [121 minutes, , ]   \n19364        [Germany, France, Israel, \\n \\n, ]   [90 minutes, , ]   \n19365  [United Kingdom, United States, \\n \\n, ]  [119 minutes, , ]   \n\n                                                starring  \\\n0      [Richard Attenborough, Judy Geeson, John Hurt,...   \n1           [Jim Brown, Raquel Welch, Burt Reynolds, , ]   \n2      [Jim Backus, Kathryn Grant, Dwayne Hickman, Ha...   \n3                  [Melina Mercouri, Romy Schneider, , ]   \n4      [Kathy Dunn, Murray Hamilton, Joyce Taylor, Hu...   \n...                                                  ...   \n19361  [Dustin Hoffman, Emma Thompson, Kathy Baker, J...   \n19362  [Gabriel Macht, Eva Mendes, Sarah Paulson, Dan...   \n19363  [Tom Cruise, Kenneth Branagh, Bill Nighy, Tom ...   \n19364                                   [Ari Folman, , ]   \n19365  [Leonardo DiCaprio, Kate Winslet, Michael Shan...   \n\n                                    box_office                budget  \\\n0                                         None                  None   \n1      [$3.5 million (US/ Canada rentals), , ]        [$3920000, , ]   \n2                                         None      [$2 million, , ]   \n3                                         None                  None   \n4                                         None                  None   \n...                                        ...                   ...   \n19361                     [$32.5 million , , ]      [$5 million, , ]   \n19362                        [$39 million, , ]     [$60 million, , ]   \n19363                     [$201.5 million, , ]  [$75–90 million, , ]   \n19364                      [$11.1 million, , ]    [$1.3 million, , ]   \n19365                        [$76 million, , ]     [$35 million, , ]   \n\n                                              written_by  \n0                                                   None  \n1                                                   None  \n2      [Dick Shaw,  ,  Leo Salkin,  ,  Lew Keller,  E...  \n3         [ (novel), Jules Dassin, Marguerite Duras, , ]  \n4                             [Otis L. Guernsey Jr., , ]  \n...                                                  ...  \n19361                                 [Joel Hopkins, , ]  \n19362                                               None  \n19363  [Nathan Alexander, Christopher McQuarrie, \\n \\...  \n19364                                   [Ari Folman, , ]  \n19365                                               None  \n\n[19366 rows x 27 columns]",
      "text/html": "<div>\n<style scoped>\n    .dataframe tbody tr th:only-of-type {\n        vertical-align: middle;\n    }\n\n    .dataframe tbody tr th {\n        vertical-align: top;\n    }\n\n    .dataframe thead th {\n        text-align: right;\n    }\n</style>\n<table border=\"1\" class=\"dataframe\">\n  <thead>\n    <tr style=\"text-align: right;\">\n      <th></th>\n      <th>Unnamed: 0</th>\n      <th>title</th>\n      <th>year</th>\n      <th>critics_count</th>\n      <th>critics_score</th>\n      <th>audience_count</th>\n      <th>audience_score</th>\n      <th>suppliers_list</th>\n      <th>rottentomatoes_year</th>\n      <th>rottentomatoes_genre</th>\n      <th>...</th>\n      <th>cinematography</th>\n      <th>directed_by</th>\n      <th>release_date</th>\n      <th>production_company</th>\n      <th>country</th>\n      <th>running_time</th>\n      <th>starring</th>\n      <th>box_office</th>\n      <th>budget</th>\n      <th>written_by</th>\n    </tr>\n  </thead>\n  <tbody>\n    <tr>\n      <th>0</th>\n      <td>0.0</td>\n      <td>10 Rillington Place</td>\n      <td>1971</td>\n      <td>13</td>\n      <td>62.0</td>\n      <td>1000</td>\n      <td>85.0</td>\n      <td>[('vudu', 'Rent/buy'), ('amazon-prime-video-us...</td>\n      <td>1971</td>\n      <td>Drama</td>\n      <td>...</td>\n      <td>[Denys Coop, , ]</td>\n      <td>[Richard Fleischer, , ]</td>\n      <td>[29 January 1971,  (UK), \\n \\n, ]</td>\n      <td>[Genesis Productions, Filmways Pictures]</td>\n      <td>[United Kingdom, , ]</td>\n      <td>[111 min, , ]</td>\n      <td>[Richard Attenborough, Judy Geeson, John Hurt,...</td>\n      <td>None</td>\n      <td>None</td>\n      <td>None</td>\n    </tr>\n    <tr>\n      <th>1</th>\n      <td>1.0</td>\n      <td>100 Rifles</td>\n      <td>1969</td>\n      <td>2</td>\n      <td>NaN</td>\n      <td>500</td>\n      <td>41.0</td>\n      <td>[('vudu', 'Rent/buy'), ('amazon-prime-video-us...</td>\n      <td>1969</td>\n      <td>Western</td>\n      <td>...</td>\n      <td>[Cecilio Paniagua, , ]</td>\n      <td>[Tom Gries, , ]</td>\n      <td>[March 26, 1969, \\n \\n, ]</td>\n      <td>[Marvin Schwartz Productions, ]</td>\n      <td>[United States, , ]</td>\n      <td>[110 minutes, , ]</td>\n      <td>[Jim Brown, Raquel Welch, Burt Reynolds, , ]</td>\n      <td>[$3.5 million (US/ Canada rentals), , ]</td>\n      <td>[$3920000, , ]</td>\n      <td>None</td>\n    </tr>\n    <tr>\n      <th>2</th>\n      <td>2.0</td>\n      <td>1001 Arabian Nights</td>\n      <td>1959</td>\n      <td>0</td>\n      <td>NaN</td>\n      <td>0</td>\n      <td>NaN</td>\n      <td>NaN</td>\n      <td>1959</td>\n      <td>Kids &amp; family/Fantasy</td>\n      <td>...</td>\n      <td>None</td>\n      <td>[Jack Kinney, , ]</td>\n      <td>[December 1, 1959, \\n \\n, ]</td>\n      <td>[, UPA]</td>\n      <td>[United States, , ]</td>\n      <td>[75 minutes, , ]</td>\n      <td>[Jim Backus, Kathryn Grant, Dwayne Hickman, Ha...</td>\n      <td>None</td>\n      <td>[$2 million, , ]</td>\n      <td>[Dick Shaw,  ,  Leo Salkin,  ,  Lew Keller,  E...</td>\n    </tr>\n    <tr>\n      <th>3</th>\n      <td>3.0</td>\n      <td>10:30 P.M. Summer</td>\n      <td>1966</td>\n      <td>4</td>\n      <td>NaN</td>\n      <td>50</td>\n      <td>32.0</td>\n      <td>NaN</td>\n      <td>1966</td>\n      <td>Drama/Mystery &amp; thriller</td>\n      <td>...</td>\n      <td>[Gábor Pogány, , ]</td>\n      <td>[Jules Dassin, , ]</td>\n      <td>[October 24, 1966, \\n \\n, ]</td>\n      <td>None</td>\n      <td>[United States, , ]</td>\n      <td>[85 minutes, , ]</td>\n      <td>[Melina Mercouri, Romy Schneider, , ]</td>\n      <td>None</td>\n      <td>None</td>\n      <td>[ (novel), Jules Dassin, Marguerite Duras, , ]</td>\n    </tr>\n    <tr>\n      <th>4</th>\n      <td>4.0</td>\n      <td>13 Frightened Girls</td>\n      <td>1963</td>\n      <td>3</td>\n      <td>NaN</td>\n      <td>50</td>\n      <td>17.0</td>\n      <td>[('vudu', 'Rent/buy'), ('amazon-prime-video-us...</td>\n      <td>1963</td>\n      <td>Mystery &amp; thriller</td>\n      <td>...</td>\n      <td>[Gordon Avil, , ]</td>\n      <td>[William Castle, , ]</td>\n      <td>[July 1963, \\n \\n, ]</td>\n      <td>[William Castle Pictures, ]</td>\n      <td>[United States, , ]</td>\n      <td>[89 minutes, , ]</td>\n      <td>[Kathy Dunn, Murray Hamilton, Joyce Taylor, Hu...</td>\n      <td>None</td>\n      <td>None</td>\n      <td>[Otis L. Guernsey Jr., , ]</td>\n    </tr>\n    <tr>\n      <th>...</th>\n      <td>...</td>\n      <td>...</td>\n      <td>...</td>\n      <td>...</td>\n      <td>...</td>\n      <td>...</td>\n      <td>...</td>\n      <td>...</td>\n      <td>...</td>\n      <td>...</td>\n      <td>...</td>\n      <td>...</td>\n      <td>...</td>\n      <td>...</td>\n      <td>...</td>\n      <td>...</td>\n      <td>...</td>\n      <td>...</td>\n      <td>...</td>\n      <td>...</td>\n      <td>...</td>\n    </tr>\n    <tr>\n      <th>19361</th>\n      <td>NaN</td>\n      <td>Last Chance Harvey</td>\n      <td>2008</td>\n      <td>157</td>\n      <td>71.0</td>\n      <td>25000</td>\n      <td>53.0</td>\n      <td>[('vudu', 'Rent/buy'), ('amazon-prime-video-us...</td>\n      <td>2008</td>\n      <td>Romance</td>\n      <td>...</td>\n      <td>[John de Borman, , ]</td>\n      <td>[Joel Hopkins, , ]</td>\n      <td>[December 25, 2008, \\n \\n, ]</td>\n      <td>None</td>\n      <td>[United States, , ]</td>\n      <td>[92 minutes, , ]</td>\n      <td>[Dustin Hoffman, Emma Thompson, Kathy Baker, J...</td>\n      <td>[$32.5 million , , ]</td>\n      <td>[$5 million, , ]</td>\n      <td>[Joel Hopkins, , ]</td>\n    </tr>\n    <tr>\n      <th>19362</th>\n      <td>NaN</td>\n      <td>The Spirit</td>\n      <td>2008</td>\n      <td>115</td>\n      <td>14.0</td>\n      <td>100000</td>\n      <td>25.0</td>\n      <td>[('vudu', 'Rent/buy'), ('amazon-prime-video-us...</td>\n      <td>2008</td>\n      <td>Action/Adventure</td>\n      <td>...</td>\n      <td>[Bill Pope, , ]</td>\n      <td>[Frank Miller, , ]</td>\n      <td>[December 25, 2008, \\n \\n, ]</td>\n      <td>[, OddLot Entertainment DarkLot Entertainment ...</td>\n      <td>[United States, , ]</td>\n      <td>[103 minutes, , ]</td>\n      <td>[Gabriel Macht, Eva Mendes, Sarah Paulson, Dan...</td>\n      <td>[$39 million, , ]</td>\n      <td>[$60 million, , ]</td>\n      <td>None</td>\n    </tr>\n    <tr>\n      <th>19363</th>\n      <td>NaN</td>\n      <td>Valkyrie</td>\n      <td>2008</td>\n      <td>198</td>\n      <td>62.0</td>\n      <td>100000</td>\n      <td>65.0</td>\n      <td>[('vudu', 'Rent/buy'), ('amazon-prime-video-us...</td>\n      <td>2008</td>\n      <td>History/Drama</td>\n      <td>...</td>\n      <td>[Newton Thomas Sigel, , ]</td>\n      <td>[Bryan Singer, , ]</td>\n      <td>[December 25, 2008,  (United States), \\n \\n, ]</td>\n      <td>[, , United Artists, Bad Hat Harry Productions...</td>\n      <td>[United States, Germany, \\n \\n, ]</td>\n      <td>[121 minutes, , ]</td>\n      <td>[Tom Cruise, Kenneth Branagh, Bill Nighy, Tom ...</td>\n      <td>[$201.5 million, , ]</td>\n      <td>[$75–90 million, , ]</td>\n      <td>[Nathan Alexander, Christopher McQuarrie, \\n \\...</td>\n    </tr>\n    <tr>\n      <th>19364</th>\n      <td>NaN</td>\n      <td>Waltz with Bashir</td>\n      <td>2008</td>\n      <td>154</td>\n      <td>96.0</td>\n      <td>25000</td>\n      <td>91.0</td>\n      <td>[('vudu', 'Rent/buy'), ('amazon-prime-video-us...</td>\n      <td>2008</td>\n      <td>Documentary/Animation</td>\n      <td>...</td>\n      <td>None</td>\n      <td>[Ari Folman, , ]</td>\n      <td>[13 May 2008,  (, ), 5 June 2008,  (Israel), C...</td>\n      <td>[, , Bridgit Folman Film Gang, Les Films d'Ici...</td>\n      <td>[Germany, France, Israel, \\n \\n, ]</td>\n      <td>[90 minutes, , ]</td>\n      <td>[Ari Folman, , ]</td>\n      <td>[$11.1 million, , ]</td>\n      <td>[$1.3 million, , ]</td>\n      <td>[Ari Folman, , ]</td>\n    </tr>\n    <tr>\n      <th>19365</th>\n      <td>NaN</td>\n      <td>Revolutionary Road</td>\n      <td>2008</td>\n      <td>215</td>\n      <td>67.0</td>\n      <td>100000</td>\n      <td>71.0</td>\n      <td>[('vudu', 'Rent/buy'), ('showtime', 'Subscript...</td>\n      <td>2008</td>\n      <td>Drama</td>\n      <td>...</td>\n      <td>[Roger Deakins, , ]</td>\n      <td>[Sam Mendes, , ]</td>\n      <td>[December 26, 2008,  (United States), January ...</td>\n      <td>[, , Evamere Entertainment, Paramount Vantage,...</td>\n      <td>[United Kingdom, United States, \\n \\n, ]</td>\n      <td>[119 minutes, , ]</td>\n      <td>[Leonardo DiCaprio, Kate Winslet, Michael Shan...</td>\n      <td>[$76 million, , ]</td>\n      <td>[$35 million, , ]</td>\n      <td>None</td>\n    </tr>\n  </tbody>\n</table>\n<p>19366 rows × 27 columns</p>\n</div>"
     },
     "execution_count": 38,
     "metadata": {},
     "output_type": "execute_result"
    }
   ],
   "source": [
    "_pattern = regex.compile(\"^\\D*(\\d+).*$\")\n",
    "def review_count_transformer(x: str):\n",
    "    x = x.replace(\",\", \"\")  # integer are divided by ',' for every 3 digits\n",
    "    match = _pattern.match(x.strip())\n",
    "    # convert into number of reviews only\n",
    "    ret_val = 0\n",
    "    \n",
    "    if match:\n",
    "        ret_val = int(match.group(1))\n",
    "    return ret_val\n",
    "\n",
    "# replace original counts\n",
    "dataframe[\"audience_count\"] = dataframe[\"audience_count\"].transform(review_count_transformer)\n",
    "dataframe[\"critics_count\"] = dataframe[\"critics_count\"].transform(review_count_transformer)\n",
    "dataframe"
   ]
  },
  {
   "cell_type": "code",
   "execution_count": 39,
   "metadata": {},
   "outputs": [
    {
     "data": {
      "text/plain": "[('\\\\xa02015', '2015'), ('\\\\xa02015', '2015'), ('\\\\xa02015', '2015')]"
     },
     "execution_count": 39,
     "metadata": {},
     "output_type": "execute_result"
    }
   ],
   "source": [
    "test = \"'Release dates': ['21\\\\xa0May\\\\xa02015', ' (', ')', '27\\\\xa0August\\\\xa02015', ' (China & Hong Kong)', '28\\\\xa0August\\\\xa02015', ' (Taiwan)', 'Cannes', '\\\\n \"\n",
    "_release_pattern.findall(test)"
   ]
  },
  {
   "cell_type": "code",
   "execution_count": 40,
   "metadata": {},
   "outputs": [
    {
     "data": {
      "text/plain": "0        {'Directed by': ['Richard Fleischer', '', ''],...\n1        {'Directed by': ['Tom Gries', '', ''], 'Screen...\n2        {'Directed by': ['Jack Kinney', '', ''], 'Writ...\n3        {'Directed by': ['Jules Dassin', '', ''], 'Wri...\n4        {'Directed by': ['William Castle', '', ''], 'S...\n                               ...                        \n19361    {'Directed by': ['Joel Hopkins', '', ''], 'Wri...\n19362    {'Directed by': ['Frank Miller', '', ''], 'Scr...\n19363    {'Directed by': ['Bryan Singer', '', ''], 'Wri...\n19364    {'Original title': ['', ''], 'Directed by': ['...\n19365    {'Directed by': ['Sam Mendes', '', ''], 'Scree...\nName: infobox, Length: 19366, dtype: object"
     },
     "execution_count": 40,
     "metadata": {},
     "output_type": "execute_result"
    }
   ],
   "source": [
    "dataframe[\"infobox\"]"
   ]
  },
  {
   "cell_type": "code",
   "execution_count": 41,
   "metadata": {},
   "outputs": [
    {
     "data": {
      "text/plain": "Index(['Unnamed: 0', 'title', 'year', 'critics_count', 'critics_score',\n       'audience_count', 'audience_score', 'suppliers_list',\n       'rottentomatoes_year', 'rottentomatoes_genre', 'rottentomatoes_length',\n       'infobox', 'produced_by', 'distributed_by', 'language', 'edited_by',\n       'music_by', 'cinematography', 'directed_by', 'release_date',\n       'production_company', 'country', 'running_time', 'starring',\n       'box_office', 'budget', 'written_by'],\n      dtype='object')"
     },
     "execution_count": 41,
     "metadata": {},
     "output_type": "execute_result"
    }
   ],
   "source": [
    "dataframe.keys()"
   ]
  },
  {
   "cell_type": "markdown",
   "metadata": {},
   "source": [
    "### Reduce Lists within entries"
   ]
  },
  {
   "cell_type": "code",
   "execution_count": 42,
   "metadata": {},
   "outputs": [
    {
     "data": {
      "text/plain": "Unnamed: 0                                                             0.0\ntitle                                                  10 Rillington Place\nyear                                                                  1971\ncritics_count                                                           13\ncritics_score                                                         62.0\naudience_count                                                        1000\naudience_score                                                        85.0\nsuppliers_list           [('vudu', 'Rent/buy'), ('amazon-prime-video-us...\nrottentomatoes_year                                                   1971\nrottentomatoes_genre                                                 Drama\nrottentomatoes_length                                                111.0\ninfobox                  {'Directed by': ['Richard Fleischer', '', ''],...\nproduced_by                          [Leslie Linder, Martin Ransohoff, , ]\ndistributed_by                                     [Columbia Pictures, , ]\nlanguage                                                     [English, , ]\nedited_by                                              [Ernest Walter, , ]\nmusic_by                                              [John Dankworth, , ]\ncinematography                                            [Denys Coop, , ]\ndirected_by                                        [Richard Fleischer, , ]\nrelease_date                             [29 January 1971,  (UK), \\n \\n, ]\nproduction_company                [Genesis Productions, Filmways Pictures]\ncountry                                               [United Kingdom, , ]\nrunning_time                                                 [111 min, , ]\nstarring                 [Richard Attenborough, Judy Geeson, John Hurt,...\nbox_office                                                            None\nbudget                                                                None\nwritten_by                                                            None\nName: 0, dtype: object"
     },
     "execution_count": 42,
     "metadata": {},
     "output_type": "execute_result"
    }
   ],
   "source": [
    "dataframe.loc[0]"
   ]
  },
  {
   "cell_type": "code",
   "execution_count": 43,
   "metadata": {},
   "outputs": [],
   "source": [
    "\"\"\"\n",
    "Due to the data collection process, the infobox contains many empty elements\n",
    "These need to be reduced and ideally into one element only\n",
    "\"\"\"\n",
    "def reduce_list(lis: list[str] | None) -> list:\n",
    "    if lis:\n",
    "        reduced_list = []\n",
    "        for item in lis:\n",
    "            item = item.replace(\"\\n\", \"\").strip().lower()\n",
    "            if item:\n",
    "                reduced_list.append(item)\n",
    "        return reduced_list\n",
    "    else:\n",
    "        return None\n",
    "\n",
    "# transform data\n",
    "for _tag in new_col_dict.keys():\n",
    "    dataframe[_tag] = dataframe[_tag].transform(reduce_list)\n",
    "    # print(dataframe[_tag].transform(reduce_list))"
   ]
  },
  {
   "cell_type": "markdown",
   "metadata": {},
   "source": [
    "### Convert Release dates"
   ]
  },
  {
   "cell_type": "code",
   "execution_count": 44,
   "metadata": {},
   "outputs": [
    {
     "data": {
      "text/plain": "0                                  [29 january 1971, (uk)]\n1                                         [march 26, 1969]\n2                                       [december 1, 1959]\n3                                       [october 24, 1966]\n4                                              [july 1963]\n                               ...                        \n19361                                  [december 25, 2008]\n19362                                  [december 25, 2008]\n19363                 [december 25, 2008, (united states)]\n19364    [13 may 2008, (, ), 5 june 2008, (israel), can...\n19365    [december 26, 2008, (united states), january 3...\nName: release_date, Length: 19366, dtype: object"
     },
     "execution_count": 44,
     "metadata": {},
     "output_type": "execute_result"
    }
   ],
   "source": [
    "dataframe[\"release_date\"]"
   ]
  },
  {
   "cell_type": "code",
   "execution_count": 45,
   "metadata": {},
   "outputs": [],
   "source": [
    "\"\"\"\n",
    "There are some different variants for writing the date unfortunately so we will use regex to extrapolate month day and year and bring it into the following format:\n",
    "<yyyy>-<mm>-<dd>\n",
    "furthermore, there are different release dates. We're only gonna look at the oldest release (which came first)\n",
    "\"\"\"\n",
    "from dateutil.parser import *\n",
    "\n",
    "# test = dataframe[\"release_date\"][12818]\n",
    "# print(str(parse(test[0]).date()))\n",
    "# print(parse(test[0]) < parse(\"21.05.2016\"))\n",
    "\n",
    "def get_first_date(dates: list[str] | None) -> str | None:\n",
    "    if dates:\n",
    "        parsed_dates = []\n",
    "        for line in dates:\n",
    "            try:\n",
    "                _date = parse(line)\n",
    "                parsed_dates.append(_date)\n",
    "            except:\n",
    "                # unrecognizable date or simply something different (e.g. countries)\n",
    "                continue\n",
    "        # get oldest date as str\n",
    "        return str(min(parsed_dates).date()) if parsed_dates else None\n",
    "    return None\n",
    "\n",
    "dataframe[\"release_date\"] = dataframe[\"release_date\"].transform(get_first_date)\n",
    "\n",
    "# recalculate index\n",
    "dataframe.reset_index(inplace=True, drop=True)"
   ]
  },
  {
   "cell_type": "code",
   "execution_count": 46,
   "metadata": {},
   "outputs": [
    {
     "data": {
      "text/plain": "18055"
     },
     "execution_count": 46,
     "metadata": {},
     "output_type": "execute_result"
    }
   ],
   "source": [
    "# amount of valid dates\n",
    "len(dataframe[\"release_date\"].loc[~dataframe[\"release_date\"].isnull()])"
   ]
  },
  {
   "cell_type": "markdown",
   "metadata": {},
   "source": [
    "### Filter years"
   ]
  },
  {
   "cell_type": "code",
   "execution_count": 47,
   "metadata": {},
   "outputs": [
    {
     "name": "stdout",
     "output_type": "stream",
     "text": [
      "removed 222 titles\n"
     ]
    },
    {
     "name": "stderr",
     "output_type": "stream",
     "text": [
      "/tmp/ipykernel_44036/1635814592.py:18: SettingWithCopyWarning: \n",
      "A value is trying to be set on a copy of a slice from a DataFrame\n",
      "\n",
      "See the caveats in the documentation: https://pandas.pydata.org/pandas-docs/stable/user_guide/indexing.html#returning-a-view-versus-a-copy\n",
      "  dataframe.drop_duplicates([\"title\", \"release_date\"], inplace=True)\n"
     ]
    },
    {
     "data": {
      "text/plain": "       Unnamed: 0                title  year  critics_count  critics_score  \\\n0             0.0  10 Rillington Place  1971             13           62.0   \n1             1.0           100 Rifles  1969              2            NaN   \n2             2.0  1001 Arabian Nights  1959              0            NaN   \n3             3.0    10:30 P.M. Summer  1966              4            NaN   \n4             4.0  13 Frightened Girls  1963              3            NaN   \n...           ...                  ...   ...            ...            ...   \n19360         NaN             Defiance  2008            189           59.0   \n19361         NaN   Last Chance Harvey  2008            157           71.0   \n19362         NaN           The Spirit  2008            115           14.0   \n19364         NaN    Waltz with Bashir  2008            154           96.0   \n19365         NaN   Revolutionary Road  2008            215           67.0   \n\n       audience_count  audience_score  \\\n0                1000            85.0   \n1                 500            41.0   \n2                   0             NaN   \n3                  50            32.0   \n4                  50            17.0   \n...               ...             ...   \n19360          250000            72.0   \n19361           25000            53.0   \n19362          100000            25.0   \n19364           25000            91.0   \n19365          100000            71.0   \n\n                                          suppliers_list  rottentomatoes_year  \\\n0      [('vudu', 'Rent/buy'), ('amazon-prime-video-us...                 1971   \n1      [('vudu', 'Rent/buy'), ('amazon-prime-video-us...                 1969   \n2                                                    NaN                 1959   \n3                                                    NaN                 1966   \n4      [('vudu', 'Rent/buy'), ('amazon-prime-video-us...                 1963   \n...                                                  ...                  ...   \n19360  [('vudu', 'Rent/buy'), ('amazon-prime-video-us...                 2008   \n19361  [('vudu', 'Rent/buy'), ('amazon-prime-video-us...                 2008   \n19362  [('vudu', 'Rent/buy'), ('amazon-prime-video-us...                 2008   \n19364  [('vudu', 'Rent/buy'), ('amazon-prime-video-us...                 2008   \n19365  [('vudu', 'Rent/buy'), ('showtime', 'Subscript...                 2008   \n\n            rottentomatoes_genre  ...      cinematography  \\\n0                          Drama  ...        [denys coop]   \n1                        Western  ...  [cecilio paniagua]   \n2          Kids & family/Fantasy  ...                None   \n3       Drama/Mystery & thriller  ...      [gábor pogány]   \n4             Mystery & thriller  ...       [gordon avil]   \n...                          ...  ...                 ...   \n19360              History/Drama  ...     [eduardo serra]   \n19361                    Romance  ...    [john de borman]   \n19362           Action/Adventure  ...         [bill pope]   \n19364      Documentary/Animation  ...                None   \n19365                      Drama  ...     [roger deakins]   \n\n               directed_by release_date  \\\n0      [richard fleischer]   1971-01-29   \n1              [tom gries]   1969-03-26   \n2            [jack kinney]   1959-12-01   \n3           [jules dassin]   1966-10-24   \n4         [william castle]   1963-07-21   \n...                    ...          ...   \n19360       [edward zwick]   2008-12-31   \n19361       [joel hopkins]   2008-12-25   \n19362       [frank miller]   2008-12-25   \n19364         [ari folman]   2008-05-13   \n19365         [sam mendes]   2008-12-26   \n\n                                      production_company  \\\n0               [genesis productions, filmways pictures]   \n1                          [marvin schwartz productions]   \n2                                                  [upa]   \n3                                                   None   \n4                              [william castle pictures]   \n...                                                  ...   \n19360  [paramount vantage, bedford falls productions,...   \n19361                                               None   \n19362  [oddlot entertainment darklot entertainment li...   \n19364  [bridgit folman film gang, les films d'ici, ra...   \n19365  [evamere entertainment, paramount vantage, dre...   \n\n                               country   running_time  \\\n0                     [united kingdom]      [111 min]   \n1                      [united states]  [110 minutes]   \n2                      [united states]   [75 minutes]   \n3                      [united states]   [85 minutes]   \n4                      [united states]   [89 minutes]   \n...                                ...            ...   \n19360                  [united states]  [137 minutes]   \n19361                  [united states]   [92 minutes]   \n19362                  [united states]  [103 minutes]   \n19364        [germany, france, israel]   [90 minutes]   \n19365  [united kingdom, united states]  [119 minutes]   \n\n                                                starring  \\\n0         [richard attenborough, judy geeson, john hurt]   \n1               [jim brown, raquel welch, burt reynolds]   \n2      [jim backus, kathryn grant, dwayne hickman, ha...   \n3                      [melina mercouri, romy schneider]   \n4      [kathy dunn, murray hamilton, joyce taylor, hu...   \n...                                                  ...   \n19360  [daniel craig, liev schreiber, jamie bell, ale...   \n19361  [dustin hoffman, emma thompson, kathy baker, j...   \n19362  [gabriel macht, eva mendes, sarah paulson, dan...   \n19364                                       [ari folman]   \n19365  [leonardo dicaprio, kate winslet, michael shan...   \n\n                                box_office          budget  \\\n0                                     None            None   \n1      [$3.5 million (us/ canada rentals)]      [$3920000]   \n2                                     None    [$2 million]   \n3                                     None            None   \n4                                     None            None   \n...                                    ...             ...   \n19360                      [$51.2 million]   [$32 million]   \n19361                      [$32.5 million]    [$5 million]   \n19362                        [$39 million]   [$60 million]   \n19364                      [$11.1 million]  [$1.3 million]   \n19365                        [$76 million]   [$35 million]   \n\n                                              written_by  \n0                                                   None  \n1                                                   None  \n2      [dick shaw, leo salkin, lew keller, ed nofzige...  \n3              [(novel), jules dassin, marguerite duras]  \n4                                 [otis l. guernsey jr.]  \n...                                                  ...  \n19360                    [clayton frohman, edward zwick]  \n19361                                     [joel hopkins]  \n19362                                               None  \n19364                                       [ari folman]  \n19365                                               None  \n\n[18821 rows x 27 columns]",
      "text/html": "<div>\n<style scoped>\n    .dataframe tbody tr th:only-of-type {\n        vertical-align: middle;\n    }\n\n    .dataframe tbody tr th {\n        vertical-align: top;\n    }\n\n    .dataframe thead th {\n        text-align: right;\n    }\n</style>\n<table border=\"1\" class=\"dataframe\">\n  <thead>\n    <tr style=\"text-align: right;\">\n      <th></th>\n      <th>Unnamed: 0</th>\n      <th>title</th>\n      <th>year</th>\n      <th>critics_count</th>\n      <th>critics_score</th>\n      <th>audience_count</th>\n      <th>audience_score</th>\n      <th>suppliers_list</th>\n      <th>rottentomatoes_year</th>\n      <th>rottentomatoes_genre</th>\n      <th>...</th>\n      <th>cinematography</th>\n      <th>directed_by</th>\n      <th>release_date</th>\n      <th>production_company</th>\n      <th>country</th>\n      <th>running_time</th>\n      <th>starring</th>\n      <th>box_office</th>\n      <th>budget</th>\n      <th>written_by</th>\n    </tr>\n  </thead>\n  <tbody>\n    <tr>\n      <th>0</th>\n      <td>0.0</td>\n      <td>10 Rillington Place</td>\n      <td>1971</td>\n      <td>13</td>\n      <td>62.0</td>\n      <td>1000</td>\n      <td>85.0</td>\n      <td>[('vudu', 'Rent/buy'), ('amazon-prime-video-us...</td>\n      <td>1971</td>\n      <td>Drama</td>\n      <td>...</td>\n      <td>[denys coop]</td>\n      <td>[richard fleischer]</td>\n      <td>1971-01-29</td>\n      <td>[genesis productions, filmways pictures]</td>\n      <td>[united kingdom]</td>\n      <td>[111 min]</td>\n      <td>[richard attenborough, judy geeson, john hurt]</td>\n      <td>None</td>\n      <td>None</td>\n      <td>None</td>\n    </tr>\n    <tr>\n      <th>1</th>\n      <td>1.0</td>\n      <td>100 Rifles</td>\n      <td>1969</td>\n      <td>2</td>\n      <td>NaN</td>\n      <td>500</td>\n      <td>41.0</td>\n      <td>[('vudu', 'Rent/buy'), ('amazon-prime-video-us...</td>\n      <td>1969</td>\n      <td>Western</td>\n      <td>...</td>\n      <td>[cecilio paniagua]</td>\n      <td>[tom gries]</td>\n      <td>1969-03-26</td>\n      <td>[marvin schwartz productions]</td>\n      <td>[united states]</td>\n      <td>[110 minutes]</td>\n      <td>[jim brown, raquel welch, burt reynolds]</td>\n      <td>[$3.5 million (us/ canada rentals)]</td>\n      <td>[$3920000]</td>\n      <td>None</td>\n    </tr>\n    <tr>\n      <th>2</th>\n      <td>2.0</td>\n      <td>1001 Arabian Nights</td>\n      <td>1959</td>\n      <td>0</td>\n      <td>NaN</td>\n      <td>0</td>\n      <td>NaN</td>\n      <td>NaN</td>\n      <td>1959</td>\n      <td>Kids &amp; family/Fantasy</td>\n      <td>...</td>\n      <td>None</td>\n      <td>[jack kinney]</td>\n      <td>1959-12-01</td>\n      <td>[upa]</td>\n      <td>[united states]</td>\n      <td>[75 minutes]</td>\n      <td>[jim backus, kathryn grant, dwayne hickman, ha...</td>\n      <td>None</td>\n      <td>[$2 million]</td>\n      <td>[dick shaw, leo salkin, lew keller, ed nofzige...</td>\n    </tr>\n    <tr>\n      <th>3</th>\n      <td>3.0</td>\n      <td>10:30 P.M. Summer</td>\n      <td>1966</td>\n      <td>4</td>\n      <td>NaN</td>\n      <td>50</td>\n      <td>32.0</td>\n      <td>NaN</td>\n      <td>1966</td>\n      <td>Drama/Mystery &amp; thriller</td>\n      <td>...</td>\n      <td>[gábor pogány]</td>\n      <td>[jules dassin]</td>\n      <td>1966-10-24</td>\n      <td>None</td>\n      <td>[united states]</td>\n      <td>[85 minutes]</td>\n      <td>[melina mercouri, romy schneider]</td>\n      <td>None</td>\n      <td>None</td>\n      <td>[(novel), jules dassin, marguerite duras]</td>\n    </tr>\n    <tr>\n      <th>4</th>\n      <td>4.0</td>\n      <td>13 Frightened Girls</td>\n      <td>1963</td>\n      <td>3</td>\n      <td>NaN</td>\n      <td>50</td>\n      <td>17.0</td>\n      <td>[('vudu', 'Rent/buy'), ('amazon-prime-video-us...</td>\n      <td>1963</td>\n      <td>Mystery &amp; thriller</td>\n      <td>...</td>\n      <td>[gordon avil]</td>\n      <td>[william castle]</td>\n      <td>1963-07-21</td>\n      <td>[william castle pictures]</td>\n      <td>[united states]</td>\n      <td>[89 minutes]</td>\n      <td>[kathy dunn, murray hamilton, joyce taylor, hu...</td>\n      <td>None</td>\n      <td>None</td>\n      <td>[otis l. guernsey jr.]</td>\n    </tr>\n    <tr>\n      <th>...</th>\n      <td>...</td>\n      <td>...</td>\n      <td>...</td>\n      <td>...</td>\n      <td>...</td>\n      <td>...</td>\n      <td>...</td>\n      <td>...</td>\n      <td>...</td>\n      <td>...</td>\n      <td>...</td>\n      <td>...</td>\n      <td>...</td>\n      <td>...</td>\n      <td>...</td>\n      <td>...</td>\n      <td>...</td>\n      <td>...</td>\n      <td>...</td>\n      <td>...</td>\n      <td>...</td>\n    </tr>\n    <tr>\n      <th>19360</th>\n      <td>NaN</td>\n      <td>Defiance</td>\n      <td>2008</td>\n      <td>189</td>\n      <td>59.0</td>\n      <td>250000</td>\n      <td>72.0</td>\n      <td>[('vudu', 'Rent/buy'), ('amazon-prime-video-us...</td>\n      <td>2008</td>\n      <td>History/Drama</td>\n      <td>...</td>\n      <td>[eduardo serra]</td>\n      <td>[edward zwick]</td>\n      <td>2008-12-31</td>\n      <td>[paramount vantage, bedford falls productions,...</td>\n      <td>[united states]</td>\n      <td>[137 minutes]</td>\n      <td>[daniel craig, liev schreiber, jamie bell, ale...</td>\n      <td>[$51.2 million]</td>\n      <td>[$32 million]</td>\n      <td>[clayton frohman, edward zwick]</td>\n    </tr>\n    <tr>\n      <th>19361</th>\n      <td>NaN</td>\n      <td>Last Chance Harvey</td>\n      <td>2008</td>\n      <td>157</td>\n      <td>71.0</td>\n      <td>25000</td>\n      <td>53.0</td>\n      <td>[('vudu', 'Rent/buy'), ('amazon-prime-video-us...</td>\n      <td>2008</td>\n      <td>Romance</td>\n      <td>...</td>\n      <td>[john de borman]</td>\n      <td>[joel hopkins]</td>\n      <td>2008-12-25</td>\n      <td>None</td>\n      <td>[united states]</td>\n      <td>[92 minutes]</td>\n      <td>[dustin hoffman, emma thompson, kathy baker, j...</td>\n      <td>[$32.5 million]</td>\n      <td>[$5 million]</td>\n      <td>[joel hopkins]</td>\n    </tr>\n    <tr>\n      <th>19362</th>\n      <td>NaN</td>\n      <td>The Spirit</td>\n      <td>2008</td>\n      <td>115</td>\n      <td>14.0</td>\n      <td>100000</td>\n      <td>25.0</td>\n      <td>[('vudu', 'Rent/buy'), ('amazon-prime-video-us...</td>\n      <td>2008</td>\n      <td>Action/Adventure</td>\n      <td>...</td>\n      <td>[bill pope]</td>\n      <td>[frank miller]</td>\n      <td>2008-12-25</td>\n      <td>[oddlot entertainment darklot entertainment li...</td>\n      <td>[united states]</td>\n      <td>[103 minutes]</td>\n      <td>[gabriel macht, eva mendes, sarah paulson, dan...</td>\n      <td>[$39 million]</td>\n      <td>[$60 million]</td>\n      <td>None</td>\n    </tr>\n    <tr>\n      <th>19364</th>\n      <td>NaN</td>\n      <td>Waltz with Bashir</td>\n      <td>2008</td>\n      <td>154</td>\n      <td>96.0</td>\n      <td>25000</td>\n      <td>91.0</td>\n      <td>[('vudu', 'Rent/buy'), ('amazon-prime-video-us...</td>\n      <td>2008</td>\n      <td>Documentary/Animation</td>\n      <td>...</td>\n      <td>None</td>\n      <td>[ari folman]</td>\n      <td>2008-05-13</td>\n      <td>[bridgit folman film gang, les films d'ici, ra...</td>\n      <td>[germany, france, israel]</td>\n      <td>[90 minutes]</td>\n      <td>[ari folman]</td>\n      <td>[$11.1 million]</td>\n      <td>[$1.3 million]</td>\n      <td>[ari folman]</td>\n    </tr>\n    <tr>\n      <th>19365</th>\n      <td>NaN</td>\n      <td>Revolutionary Road</td>\n      <td>2008</td>\n      <td>215</td>\n      <td>67.0</td>\n      <td>100000</td>\n      <td>71.0</td>\n      <td>[('vudu', 'Rent/buy'), ('showtime', 'Subscript...</td>\n      <td>2008</td>\n      <td>Drama</td>\n      <td>...</td>\n      <td>[roger deakins]</td>\n      <td>[sam mendes]</td>\n      <td>2008-12-26</td>\n      <td>[evamere entertainment, paramount vantage, dre...</td>\n      <td>[united kingdom, united states]</td>\n      <td>[119 minutes]</td>\n      <td>[leonardo dicaprio, kate winslet, michael shan...</td>\n      <td>[$76 million]</td>\n      <td>[$35 million]</td>\n      <td>None</td>\n    </tr>\n  </tbody>\n</table>\n<p>18821 rows × 27 columns</p>\n</div>"
     },
     "execution_count": 47,
     "metadata": {},
     "output_type": "execute_result"
    }
   ],
   "source": [
    "\"\"\"\n",
    "There might occur some differences between the Release Date on Wikipedia and Rotten Tomatoes possibly indicating a different movie alltogether\n",
    "We're gonna simply remove the ones having a difference bigger than 1 year\n",
    "\"\"\"\n",
    "\n",
    "def _get_year(entry: str) -> int:\n",
    "    parse(entry).year\n",
    "\n",
    "wiki_list_year = dataframe[\"year\"].copy()\n",
    "wiki_list_year[dataframe[\"release_date\"].notnull()] = dataframe[\"release_date\"][dataframe[\"release_date\"].notnull()].transform(_get_year)\n",
    "\n",
    "_filter = abs(wiki_list_year - dataframe[\"rottentomatoes_year\"]) > 1\n",
    "different_movies = dataframe.loc[_filter]\n",
    "\n",
    "print(f\"removed {len(different_movies)} titles\")\n",
    "dataframe = dataframe.loc[~_filter]\n",
    "# remove duplicates\n",
    "dataframe.drop_duplicates([\"title\", \"release_date\"], inplace=True)\n",
    "dataframe"
   ]
  },
  {
   "cell_type": "markdown",
   "metadata": {},
   "source": [
    "### Box Office/Budget Filter"
   ]
  },
  {
   "cell_type": "code",
   "execution_count": 48,
   "metadata": {},
   "outputs": [
    {
     "data": {
      "text/plain": "                                             produced_by  \\\n0                      [leslie linder, martin ransohoff]   \n1                                      [marvin schwartz]   \n2                                     [stephen bosustow]   \n3                         [jules dassin, anatole litvak]   \n4                                       [william castle]   \n...                                                  ...   \n19360                  [edward zwick, pieter jan brugge]   \n19361                       [tim perell, nicola usborne]   \n19362  [deborah del prete, gigi pritzker, michael e. ...   \n19364  [ari folman, serge lalou, gerhard meixner, yae...   \n19365  [sam mendes, bobby cohen, scott rudin, john hart]   \n\n                                          distributed_by            language  \\\n0                                    [columbia pictures]           [english]   \n1                                     [20th century fox]  [english, spanish]   \n2                                    [columbia pictures]           [english]   \n3                          [lopert pictures corporation]           [english]   \n4                                    [columbia pictures]           [english]   \n...                                                  ...                 ...   \n19360  [(north america), essential entertainment (int...  [english, russian]   \n19361  [(united states), (international), overture fi...           [english]   \n19362                                    [sony pictures]           [english]   \n19364                           [sony pictures classics]            [hebrew]   \n19365                                [paramount vantage]           [english]   \n\n                 edited_by               music_by      cinematography  \\\n0          [ernest walter]       [john dankworth]        [denys coop]   \n1      [robert l. simpson]      [jerry goldsmith]  [cecilio paniagua]   \n2                     None        [george duning]                None   \n3            [roger dwyre]   [cristóbal halffter]      [gábor pogány]   \n4        [edwin h. bryant]        [van alexander]       [gordon avil]   \n...                    ...                    ...                 ...   \n19360   [steven rosenblum]  [james newton howard]     [eduardo serra]   \n19361        [robin sales]    [dickon hinchliffe]    [john de borman]   \n19362   [gregory nussbaum]         [david newman]         [bill pope]   \n19364        [nili feller]          [max richter]                None   \n19365        [tariq anwar]        [thomas newman]     [roger deakins]   \n\n               directed_by release_date  \\\n0      [richard fleischer]   1971-01-29   \n1              [tom gries]   1969-03-26   \n2            [jack kinney]   1959-12-01   \n3           [jules dassin]   1966-10-24   \n4         [william castle]   1963-07-21   \n...                    ...          ...   \n19360       [edward zwick]   2008-12-31   \n19361       [joel hopkins]   2008-12-25   \n19362       [frank miller]   2008-12-25   \n19364         [ari folman]   2008-05-13   \n19365         [sam mendes]   2008-12-26   \n\n                                      production_company  \\\n0               [genesis productions, filmways pictures]   \n1                          [marvin schwartz productions]   \n2                                                  [upa]   \n3                                                   None   \n4                              [william castle pictures]   \n...                                                  ...   \n19360  [paramount vantage, bedford falls productions,...   \n19361                                               None   \n19362  [oddlot entertainment darklot entertainment li...   \n19364  [bridgit folman film gang, les films d'ici, ra...   \n19365  [evamere entertainment, paramount vantage, dre...   \n\n                               country   running_time  \\\n0                     [united kingdom]      [111 min]   \n1                      [united states]  [110 minutes]   \n2                      [united states]   [75 minutes]   \n3                      [united states]   [85 minutes]   \n4                      [united states]   [89 minutes]   \n...                                ...            ...   \n19360                  [united states]  [137 minutes]   \n19361                  [united states]   [92 minutes]   \n19362                  [united states]  [103 minutes]   \n19364        [germany, france, israel]   [90 minutes]   \n19365  [united kingdom, united states]  [119 minutes]   \n\n                                                starring  \\\n0         [richard attenborough, judy geeson, john hurt]   \n1               [jim brown, raquel welch, burt reynolds]   \n2      [jim backus, kathryn grant, dwayne hickman, ha...   \n3                      [melina mercouri, romy schneider]   \n4      [kathy dunn, murray hamilton, joyce taylor, hu...   \n...                                                  ...   \n19360  [daniel craig, liev schreiber, jamie bell, ale...   \n19361  [dustin hoffman, emma thompson, kathy baker, j...   \n19362  [gabriel macht, eva mendes, sarah paulson, dan...   \n19364                                       [ari folman]   \n19365  [leonardo dicaprio, kate winslet, michael shan...   \n\n                                box_office          budget  \\\n0                                     None            None   \n1      [$3.5 million (us/ canada rentals)]      [$3920000]   \n2                                     None    [$2 million]   \n3                                     None            None   \n4                                     None            None   \n...                                    ...             ...   \n19360                      [$51.2 million]   [$32 million]   \n19361                      [$32.5 million]    [$5 million]   \n19362                        [$39 million]   [$60 million]   \n19364                      [$11.1 million]  [$1.3 million]   \n19365                        [$76 million]   [$35 million]   \n\n                                              written_by  \n0                                                   None  \n1                                                   None  \n2      [dick shaw, leo salkin, lew keller, ed nofzige...  \n3              [(novel), jules dassin, marguerite duras]  \n4                                 [otis l. guernsey jr.]  \n...                                                  ...  \n19360                    [clayton frohman, edward zwick]  \n19361                                     [joel hopkins]  \n19362                                               None  \n19364                                       [ari folman]  \n19365                                               None  \n\n[18821 rows x 15 columns]",
      "text/html": "<div>\n<style scoped>\n    .dataframe tbody tr th:only-of-type {\n        vertical-align: middle;\n    }\n\n    .dataframe tbody tr th {\n        vertical-align: top;\n    }\n\n    .dataframe thead th {\n        text-align: right;\n    }\n</style>\n<table border=\"1\" class=\"dataframe\">\n  <thead>\n    <tr style=\"text-align: right;\">\n      <th></th>\n      <th>produced_by</th>\n      <th>distributed_by</th>\n      <th>language</th>\n      <th>edited_by</th>\n      <th>music_by</th>\n      <th>cinematography</th>\n      <th>directed_by</th>\n      <th>release_date</th>\n      <th>production_company</th>\n      <th>country</th>\n      <th>running_time</th>\n      <th>starring</th>\n      <th>box_office</th>\n      <th>budget</th>\n      <th>written_by</th>\n    </tr>\n  </thead>\n  <tbody>\n    <tr>\n      <th>0</th>\n      <td>[leslie linder, martin ransohoff]</td>\n      <td>[columbia pictures]</td>\n      <td>[english]</td>\n      <td>[ernest walter]</td>\n      <td>[john dankworth]</td>\n      <td>[denys coop]</td>\n      <td>[richard fleischer]</td>\n      <td>1971-01-29</td>\n      <td>[genesis productions, filmways pictures]</td>\n      <td>[united kingdom]</td>\n      <td>[111 min]</td>\n      <td>[richard attenborough, judy geeson, john hurt]</td>\n      <td>None</td>\n      <td>None</td>\n      <td>None</td>\n    </tr>\n    <tr>\n      <th>1</th>\n      <td>[marvin schwartz]</td>\n      <td>[20th century fox]</td>\n      <td>[english, spanish]</td>\n      <td>[robert l. simpson]</td>\n      <td>[jerry goldsmith]</td>\n      <td>[cecilio paniagua]</td>\n      <td>[tom gries]</td>\n      <td>1969-03-26</td>\n      <td>[marvin schwartz productions]</td>\n      <td>[united states]</td>\n      <td>[110 minutes]</td>\n      <td>[jim brown, raquel welch, burt reynolds]</td>\n      <td>[$3.5 million (us/ canada rentals)]</td>\n      <td>[$3920000]</td>\n      <td>None</td>\n    </tr>\n    <tr>\n      <th>2</th>\n      <td>[stephen bosustow]</td>\n      <td>[columbia pictures]</td>\n      <td>[english]</td>\n      <td>None</td>\n      <td>[george duning]</td>\n      <td>None</td>\n      <td>[jack kinney]</td>\n      <td>1959-12-01</td>\n      <td>[upa]</td>\n      <td>[united states]</td>\n      <td>[75 minutes]</td>\n      <td>[jim backus, kathryn grant, dwayne hickman, ha...</td>\n      <td>None</td>\n      <td>[$2 million]</td>\n      <td>[dick shaw, leo salkin, lew keller, ed nofzige...</td>\n    </tr>\n    <tr>\n      <th>3</th>\n      <td>[jules dassin, anatole litvak]</td>\n      <td>[lopert pictures corporation]</td>\n      <td>[english]</td>\n      <td>[roger dwyre]</td>\n      <td>[cristóbal halffter]</td>\n      <td>[gábor pogány]</td>\n      <td>[jules dassin]</td>\n      <td>1966-10-24</td>\n      <td>None</td>\n      <td>[united states]</td>\n      <td>[85 minutes]</td>\n      <td>[melina mercouri, romy schneider]</td>\n      <td>None</td>\n      <td>None</td>\n      <td>[(novel), jules dassin, marguerite duras]</td>\n    </tr>\n    <tr>\n      <th>4</th>\n      <td>[william castle]</td>\n      <td>[columbia pictures]</td>\n      <td>[english]</td>\n      <td>[edwin h. bryant]</td>\n      <td>[van alexander]</td>\n      <td>[gordon avil]</td>\n      <td>[william castle]</td>\n      <td>1963-07-21</td>\n      <td>[william castle pictures]</td>\n      <td>[united states]</td>\n      <td>[89 minutes]</td>\n      <td>[kathy dunn, murray hamilton, joyce taylor, hu...</td>\n      <td>None</td>\n      <td>None</td>\n      <td>[otis l. guernsey jr.]</td>\n    </tr>\n    <tr>\n      <th>...</th>\n      <td>...</td>\n      <td>...</td>\n      <td>...</td>\n      <td>...</td>\n      <td>...</td>\n      <td>...</td>\n      <td>...</td>\n      <td>...</td>\n      <td>...</td>\n      <td>...</td>\n      <td>...</td>\n      <td>...</td>\n      <td>...</td>\n      <td>...</td>\n      <td>...</td>\n    </tr>\n    <tr>\n      <th>19360</th>\n      <td>[edward zwick, pieter jan brugge]</td>\n      <td>[(north america), essential entertainment (int...</td>\n      <td>[english, russian]</td>\n      <td>[steven rosenblum]</td>\n      <td>[james newton howard]</td>\n      <td>[eduardo serra]</td>\n      <td>[edward zwick]</td>\n      <td>2008-12-31</td>\n      <td>[paramount vantage, bedford falls productions,...</td>\n      <td>[united states]</td>\n      <td>[137 minutes]</td>\n      <td>[daniel craig, liev schreiber, jamie bell, ale...</td>\n      <td>[$51.2 million]</td>\n      <td>[$32 million]</td>\n      <td>[clayton frohman, edward zwick]</td>\n    </tr>\n    <tr>\n      <th>19361</th>\n      <td>[tim perell, nicola usborne]</td>\n      <td>[(united states), (international), overture fi...</td>\n      <td>[english]</td>\n      <td>[robin sales]</td>\n      <td>[dickon hinchliffe]</td>\n      <td>[john de borman]</td>\n      <td>[joel hopkins]</td>\n      <td>2008-12-25</td>\n      <td>None</td>\n      <td>[united states]</td>\n      <td>[92 minutes]</td>\n      <td>[dustin hoffman, emma thompson, kathy baker, j...</td>\n      <td>[$32.5 million]</td>\n      <td>[$5 million]</td>\n      <td>[joel hopkins]</td>\n    </tr>\n    <tr>\n      <th>19362</th>\n      <td>[deborah del prete, gigi pritzker, michael e. ...</td>\n      <td>[sony pictures]</td>\n      <td>[english]</td>\n      <td>[gregory nussbaum]</td>\n      <td>[david newman]</td>\n      <td>[bill pope]</td>\n      <td>[frank miller]</td>\n      <td>2008-12-25</td>\n      <td>[oddlot entertainment darklot entertainment li...</td>\n      <td>[united states]</td>\n      <td>[103 minutes]</td>\n      <td>[gabriel macht, eva mendes, sarah paulson, dan...</td>\n      <td>[$39 million]</td>\n      <td>[$60 million]</td>\n      <td>None</td>\n    </tr>\n    <tr>\n      <th>19364</th>\n      <td>[ari folman, serge lalou, gerhard meixner, yae...</td>\n      <td>[sony pictures classics]</td>\n      <td>[hebrew]</td>\n      <td>[nili feller]</td>\n      <td>[max richter]</td>\n      <td>None</td>\n      <td>[ari folman]</td>\n      <td>2008-05-13</td>\n      <td>[bridgit folman film gang, les films d'ici, ra...</td>\n      <td>[germany, france, israel]</td>\n      <td>[90 minutes]</td>\n      <td>[ari folman]</td>\n      <td>[$11.1 million]</td>\n      <td>[$1.3 million]</td>\n      <td>[ari folman]</td>\n    </tr>\n    <tr>\n      <th>19365</th>\n      <td>[sam mendes, bobby cohen, scott rudin, john hart]</td>\n      <td>[paramount vantage]</td>\n      <td>[english]</td>\n      <td>[tariq anwar]</td>\n      <td>[thomas newman]</td>\n      <td>[roger deakins]</td>\n      <td>[sam mendes]</td>\n      <td>2008-12-26</td>\n      <td>[evamere entertainment, paramount vantage, dre...</td>\n      <td>[united kingdom, united states]</td>\n      <td>[119 minutes]</td>\n      <td>[leonardo dicaprio, kate winslet, michael shan...</td>\n      <td>[$76 million]</td>\n      <td>[$35 million]</td>\n      <td>None</td>\n    </tr>\n  </tbody>\n</table>\n<p>18821 rows × 15 columns</p>\n</div>"
     },
     "execution_count": 48,
     "metadata": {},
     "output_type": "execute_result"
    }
   ],
   "source": [
    "cols = [k for k in new_col_dict.keys()]\n",
    "dataframe[cols]"
   ]
  },
  {
   "cell_type": "code",
   "execution_count": 49,
   "metadata": {},
   "outputs": [],
   "source": [
    "inflation_table_US = pd.read_csv(Path(local_path, \"inflation_rate_usa.csv\"), dtype=float)\n",
    "inflation_table_US[\"Year\"] = inflation_table_US[\"Year\"].transform(lambda x: int(x))\n",
    "# TODO use IMF Table for different countries\n",
    "FIRST_YEAR_US = 1913\n",
    "LAST_YEAR_US = 2022\n",
    "MONTH_MAPPING = {\n",
    "    1: \"Jan\",\n",
    "    2: \"Feb\",\n",
    "    3: \"Mar\",\n",
    "    4: \"Apr\",\n",
    "    5: \"May\",\n",
    "    6: \"June\",\n",
    "    7: \"July\",\n",
    "    8: \"Aug\",\n",
    "    9: \"Sep\",\n",
    "   10: \"Oct\",\n",
    "   11: \"Nov\",\n",
    "   12: \"Dec\",\n",
    "}\n",
    "\"\"\"\n",
    "Inflation Table contains CPI in Columns Jan-Dec and Avg, Dec-Dec and Avg-Avg is already given in percent\n",
    "\"\"\"\n",
    "\n",
    "def inflation_calculator_US(value: float, from_year: int, to_year: int = 2022, from_month: int = None, to_month: int = None) -> float:\n",
    "    \"\"\"\n",
    "    Calculate Inflation per year or even per month if <from_month> and <to_month> are specified\n",
    "    Inflation can be efficiently calculated with CPI money*(<to_cpi> / <from_cpi>)\n",
    "    Rounded to 2 decimals\n",
    "    \"\"\"\n",
    "    if from_year < FIRST_YEAR_US or to_year > LAST_YEAR_US:\n",
    "        if to_year < FIRST_YEAR_US or from_year > LAST_YEAR_US:\n",
    "            raise ValueError(\"years are out of range of dataset\")\n",
    "    if from_month:\n",
    "        if from_month < 1 or from_month > 12:\n",
    "            raise ValueError(\"from months are out of range\")\n",
    "    if to_month:\n",
    "        if to_month < 1 or to_month > 12:\n",
    "            raise ValueError(\"to months are out of range\")\n",
    "\n",
    "    _from_table = inflation_table_US.loc[from_year-FIRST_YEAR_US]\n",
    "    _to_table = inflation_table_US.loc[to_year-FIRST_YEAR_US]\n",
    "\n",
    "    _from_pci: float = _from_table[MONTH_MAPPING[from_month]] if from_month else _from_table[\"Avg\"]\n",
    "    _to_pci: float = _to_table[MONTH_MAPPING[to_month]] if to_month else _to_table[\"Avg\"]\n",
    "\n",
    "    return round(value * (_to_pci / _from_pci), 2)\n",
    "\n",
    "# inflation_calculator_US(1.0, 1913, 1917, 1, 12)"
   ]
  },
  {
   "cell_type": "code",
   "execution_count": 50,
   "metadata": {},
   "outputs": [],
   "source": [
    "CURRENCY_CPI_MAPPING: dict[str: str] = {\n",
    "    \"US_DOLLAR\" : \"United States\",\n",
    "    \"NZ_DOLLAR\" : \"New Zealand\",\n",
    "    \"AUS_DOLLAR\" : \"Australia\",\n",
    "    \"HK_DOLLAR\" : \"China, P.R.: Hong Kong\",\n",
    "    \"NT_DOLLAR\" : \"China, P.R.: Hong Kong\", # \"Taiwan\" is not in the Database assume same growth as Hong Kong\n",
    "    \"MX_DOLLAR\" : \"Mexico\",\n",
    "    \"GB_POUND\" : \"United Kingdom\",\n",
    "    \"EURO\" : \"Euro Area\",\n",
    "    \"JP_YEN\" : \"Japan\",\n",
    "    \"CN_YUAN\" : \"China, P.R.: Mainland\",\n",
    "    \"RUBLES\" : \"Russian Federation\",\n",
    "    \"SWED_KRON\" : \"Sweden\",\n",
    "    \"INDIAN_RUPEE\" : \"India\",\n",
    "    \"TURK_LIRA\" : \"Türkiye, Rep of\",\n",
    "    \"MALAYSIA_RM\" : \"Malaysia\",\n",
    "}\n",
    "inflation_table = pd.read_csv(Path(local_path, \"CPI_timeSeries\", \"CPI_simple.csv\"))\n",
    "\n",
    "# TODO use IMF Table for different countries\n",
    "FIRST_YEAR = 1950\n",
    "LAST_YEAR = 2022\n",
    "\n",
    "# TODO inflation calculator for different countries and conversion Rate!!\n",
    "\n",
    "def inflation_calculator(currency: str, value: float, from_year: int, to_year: int = 2022, from_month: int = None, to_month: int = None) -> float:\n",
    "    \"\"\"\n",
    "    Calculate Inflation per year or even per month if <from_month> and <to_month> are specified\n",
    "    Inflation can be efficiently calculated with CPI money*(<to_cpi> / <from_cpi>)\n",
    "    Rounded to 2 decimals.\n",
    "\n",
    "    @param currency must be part of the translation_dict_CPI mapping!\n",
    "    \n",
    "    It is recommended to calculate up to 2017, and the convert to US $ since the exchange database wasn't updated anymore since may 2018\n",
    "    \"\"\"\n",
    "    if from_year < FIRST_YEAR or to_year > LAST_YEAR:\n",
    "        if to_year < FIRST_YEAR or from_year > LAST_YEAR:\n",
    "            raise ValueError(\"years are out of range of dataset\")\n",
    "    if from_month:\n",
    "        if from_month < 1 or from_month > 12:\n",
    "            raise ValueError(\"from months are out of range\")\n",
    "    if to_month:\n",
    "        if to_month < 1 or to_month > 12:\n",
    "            raise ValueError(\"to months are out of range\")\n",
    "\n",
    "    _from_index = f\"{from_year}\" + (f\"M{from_month}\" if from_month else \"\")\n",
    "    _to_index = f\"{to_year}\" + (f\"M{to_month}\" if to_month else \"\")\n",
    "\n",
    "    country_inflation_table = inflation_table.loc[inflation_table[\"Country Name\"] == CURRENCY_CPI_MAPPING[currency]].reset_index()\n",
    "\n",
    "    _from_pci = country_inflation_table[_from_index][0]\n",
    "    _to_pci = country_inflation_table[_to_index][0]\n",
    "\n",
    "    return round(value * (_to_pci / _from_pci), 2)"
   ]
  },
  {
   "cell_type": "code",
   "execution_count": 51,
   "metadata": {},
   "outputs": [
    {
     "name": "stdout",
     "output_type": "stream",
     "text": [
      "3.49\n",
      "3.67\n"
     ]
    }
   ],
   "source": [
    "print(inflation_calculator(\"US_DOLLAR\", 1.0, 1950, 1980, 1, 12))\n",
    "print(inflation_calculator_US(1.0, 1950, 1980, 1, 12))\n",
    "# Close enough"
   ]
  },
  {
   "cell_type": "code",
   "execution_count": 52,
   "metadata": {},
   "outputs": [],
   "source": [
    "CURRENCY_EXCHANGE_MAPPING: dict[str: str|None] = {\n",
    "    \"US_DOLLAR\" : \"U.S. Dollar\",\n",
    "    \"NZ_DOLLAR\" : \"New Zealand Dollar\",\n",
    "    \"AUS_DOLLAR\" : \"Australian Dollar\",\n",
    "    \"HK_DOLLAR\" : None,   # Hong Kong is not in the Database\n",
    "    \"NT_DOLLAR\" : None,   # Taiwan is not in the Database\n",
    "    \"MX_DOLLAR\" : \"Mexican Peso\",\n",
    "    \"GB_POUND\" : \"U.K. Pound Sterling\",\n",
    "    \"EURO\" : \"Euro\",\n",
    "    \"JP_YEN\" : \"Japanese Yen\",\n",
    "    \"CN_YUAN\" : \"Chinese Yuan\",\n",
    "    \"RUBLES\" : \"Russian Ruble\",\n",
    "    \"SWED_KRON\" : \"Swedish Krona\",\n",
    "    \"INDIAN_RUPEE\" : \"Indian Rupee\",\n",
    "    \"TURK_LIRA\" : None,    # Turkey is not in the Database\n",
    "    \"MALAYSIA_RM\" : \"Malaysian Ringgit\",\n",
    "}\n",
    "exchange_table = pd.read_csv(Path(local_path, \"exchange_rate\", \"currency_exchange_rates.csv\"))\n",
    "# take only one timestamp where No value is NaN\n",
    "exchange_table = exchange_table.loc[exchange_table[\"Date\"] == \"2017-1-18\"]\n",
    "\n",
    "CURRENCY_EXCHANGE_VALUE_MAPPING: dict[str, float] = {\n",
    "    base_key: float(exchange_table[ex_key]) for base_key, ex_key in CURRENCY_EXCHANGE_MAPPING.items() if ex_key\n",
    "}\n",
    "# add missing avg exchange rates for 2017, copied manually from https://www.exchangerates.org.uk\n",
    "update_dict = {\n",
    "    \"HK_DOLLAR\" : 7.7925,\n",
    "    \"NT_DOLLAR\" : 30.4252,\n",
    "    \"TURK_LIRA\" : 3.6462,\n",
    "}\n",
    "CURRENCY_EXCHANGE_VALUE_MAPPING.update(update_dict)\n",
    "\n",
    "def convert_into_dollar(currency: str, value: float) -> float:\n",
    "    \"\"\"\n",
    "    Takes a currency from CURRENCY_EXCHANGE_VALUE_MAPPING and converts it into dollar.\n",
    "    This is ONLY somewhat accurate for January of 2017!!!\n",
    "    \"\"\"\n",
    "    return value / CURRENCY_EXCHANGE_VALUE_MAPPING[currency]\n",
    "    "
   ]
  },
  {
   "cell_type": "markdown",
   "metadata": {},
   "source": [
    "### Combine Both functions to get money in US$ for 2022"
   ]
  },
  {
   "cell_type": "code",
   "execution_count": 53,
   "metadata": {},
   "outputs": [
    {
     "data": {
      "text/plain": "3.48"
     },
     "execution_count": 53,
     "metadata": {},
     "output_type": "execute_result"
    }
   ],
   "source": [
    "def convert_value_to_recent_us_dollar(currency: str, value: float, from_year: int, from_month: int|None = None) -> float:\n",
    "    \"\"\"\n",
    "    @param currency original currency of <value>\n",
    "    @param value amount of original currency\n",
    "    @param from_year how much inflation took place since the value was recent\n",
    "    @param from_month which month in <from_year> \n",
    "    \"\"\"\n",
    "    exchangable_value = inflation_calculator(currency, value, from_year, 2017, from_month, 1)\n",
    "    new_value = convert_into_dollar(currency, exchangable_value)\n",
    "    return inflation_calculator(\"US_DOLLAR\", new_value, 2017, 2022, 1, 12)\n",
    "\n",
    "convert_value_to_recent_us_dollar(\"JP_YEN\", 100, 1970, 1)\n",
    "# CURRENCY_EXCHANGE_VALUE_MAPPING"
   ]
  },
  {
   "cell_type": "code",
   "execution_count": 54,
   "metadata": {},
   "outputs": [],
   "source": [
    "\"\"\"\n",
    "First we need to convert all written text into a natural number (e.g. 46.75 million = 46750000)\n",
    "After that, the really difficult part starts by accounting for inflation and different currencies\n",
    "We want US$ only at the end\n",
    "\"\"\"\n",
    "\n",
    "_number_pattern = regex.compile(\"(\\d+)\")\n",
    "_reduced_mbillion_pattern = regex.compile(\"^((\\d+\\.?\\d*)\\s?(millions?|billions?|crores?))(?=.*)\")\n",
    "_mbillion_pattern = regex.compile(\"(?<=.*\\s|\\W)((\\d+\\.?\\d*)\\s?(millions?|billions?|crores?))(?=.*)\")\n",
    "# some entries already or only contain an equivalent for decades later than when the movei was released\n",
    "# this needs to be regarded for the inflation adjustments\n",
    "_equivalent_pattern = regex.compile(\".*[\\s\\(]((\\w?\\w?\\D)(\\d+)\\sin\\s(\\d{4})).*\") # groups -> capture, currency, amount, year\n",
    "\n",
    "\"\"\"\n",
    "Predefined Pattern for the Value type of the return dict of money_heuristic\n",
    "This is required for the inflation calculator to adjust the values more correctly\n",
    "if one of the ATTRIBUTES items is None, use the original entry data to infer the used values\n",
    "\"\"\"\n",
    "CURRENCY = str|None\n",
    "YEAR = int|None\n",
    "MONEY_ATTRIBUTES = list[CURRENCY, YEAR]\n",
    "AMOUNT_ATTRIBUTES = 2\n",
    "\n",
    "NON_US_DOLLAR_SCORE = 6\n",
    "# each tuple has Name of Currency/Country and associated score (loosley based on conversion factor)\n",
    "# sorted with decreasing score!\n",
    "_optional_value_pattern = \"()\"\n",
    "# patterns first and last group are always the POTENTIAL number (maybe doesn't exist)\n",
    "_currencies_patterns: list[tuple[str, \"regex.Pattern\", int]] = [\n",
    "    (\"US_DOLLAR\", regex.compile(\"(\\d+)?\\s?((us)?\\$)\\s?(\\d+)?\"), 10),    # score must only be applied if NONE of the other _DOLLAR patterns matched!\n",
    "    (\"NZ_DOLLAR\", regex.compile(\"(\\d+)?\\s?((au?)\\$)\\s?(\\d+)?\"), NON_US_DOLLAR_SCORE),\n",
    "    (\"AUS_DOLLAR\", regex.compile(\"(\\d+)?\\s?((nz)\\$)\\s?(\\d+)?\"), NON_US_DOLLAR_SCORE),\n",
    "    (\"HK_DOLLAR\", regex.compile(\"(\\d+)?\\s?((hk)\\$)\\s?(\\d+)?\"), NON_US_DOLLAR_SCORE),\n",
    "    (\"NT_DOLLAR\", regex.compile(\"(\\d+)?\\s?((nt)\\$)\\s?(\\d+)?\"), NON_US_DOLLAR_SCORE),\n",
    "    (\"MX_DOLLAR\", regex.compile(\"(\\d+)?\\s?((mx)\\$)\\s?(\\d+)?\"), NON_US_DOLLAR_SCORE),\n",
    "    (\"GB_POUND\", regex.compile(\"(\\d+)?\\s?(£)\\s?(\\d+)?\"), 5),\n",
    "    (\"EURO\", regex.compile(\"(\\d+)?\\s?(€)\\s?(\\d+)?\"), 5),\n",
    "    (\"JP_YEN\", regex.compile(\"(\\d+)?\\s?((?<!cn)¥)\\s?(\\d+)?\"), 3),\n",
    "    (\"CN_YUAN\", regex.compile(\"(\\d+)?\\s?(cn¥|yuan|rmb)\\s?(\\d+)?\"), 3),\n",
    "    (\"RUBLES\", regex.compile(\"(\\d+)?\\s?(rub|₽)\\s?(\\d+)?\"), 3),\n",
    "    (\"SWED_KRON\", regex.compile(\"(\\d+)?\\s?(sek)\\s?(\\d+)?\"), 3),\n",
    "    (\"INDIAN_RUPEE\", regex.compile(\"(\\d+)?\\s?(₹)\\s?(\\d+)?\"), 3),\n",
    "    (\"TURK_LIRA\", regex.compile(\"(\\d+)?\\s?(₺)\\s?(\\d+)?\"), 3),\n",
    "    (\"MALAYSIA_RM\", regex.compile(\"(\\d+)?\\s?(rm)\\s?(\\d+)?\"), 3),\n",
    "]\n",
    "\n",
    "def money_heuristic(entries: list[str]) -> tuple[int, MONEY_ATTRIBUTES] | None:\n",
    "    \"\"\"\n",
    "    wikipedia often has multiple entries about the box office (global, within the country, other currencies, etc.)\n",
    "    This function assigns a scoring system for these entries to estimate the most beneficial for our dataset.\n",
    "    \n",
    "    @return the most useful entry based on heuristics, condensed on number only, additional ATTRIBUTES needed for conversion/inflation\n",
    "    \"\"\"\n",
    "\n",
    "    def multiplier(selector: str) -> float:\n",
    "        \"\"\"\n",
    "        the equivalent in numbers to a word\n",
    "        \"\"\"\n",
    "        return {\n",
    "            \"million\": 10**6,\n",
    "            \"millions\": 10**6,\n",
    "            \"crore\": 10**7, # east asian for 10 million, also indian currency\n",
    "            \"crores\": 10**7,\n",
    "            \"billion\": 10**9,\n",
    "            \"billions\": 10**9,\n",
    "        }[selector]\n",
    "    \n",
    "    \n",
    "    def amount_heuristic(_heuristics: dict[int, int], _entries: list[str]) -> None:\n",
    "        \"\"\"\n",
    "        modifies heuristic based on number \n",
    "        \"\"\"\n",
    "        numbers: list[int] = []\n",
    "        # get biggest number in one entry\n",
    "        for index, entry in enumerate(_entries):\n",
    "            numbers.append(-1)\n",
    "            for num in _number_pattern.findall(entry):\n",
    "                int_num = int(num)\n",
    "                if int_num > numbers[-1]:\n",
    "                    numbers[-1] = int_num\n",
    "\n",
    "        # get heuristic value based on size\n",
    "        argmax_list = [0 for i in range(len(_entries))]\n",
    "        for index, num in enumerate(numbers):\n",
    "            for i in range(len(_entries)):\n",
    "                argmax_list[i] += 1 if numbers[i] > num else 0\n",
    "\n",
    "        # apply scores\n",
    "        for index, points in enumerate(argmax_list):\n",
    "            _heuristics[index] += points\n",
    "    \n",
    "\n",
    "    def currency_heuristic(_heuristics: dict[int, int], _entries: list[str]) -> dict[int, MONEY_ATTRIBUTES]:\n",
    "        \"\"\"\n",
    "        This method tries to find out which currencies are probably used in each entry.\n",
    "        We want us$ if possible since we only need to account for inflation then and not for exchange factor as well\n",
    "        \"\"\"\n",
    "        curr_heur: dict[int, int] = {}\n",
    "        _attributes: dict[int, MONEY_ATTRIBUTES] = {} \n",
    "        for index, entry in enumerate(_entries):\n",
    "            curr_heur[index] = 0    # initiate default score of +0\n",
    "            _attributes[index] = [None for _ in range(AMOUNT_ATTRIBUTES)]   # initiate empty attribute list\n",
    "\n",
    "            for cur_name, pattern, score in _currencies_patterns[:0:-1]: # use inverse list and omit US$\n",
    "                if pattern.findall(entry):\n",
    "                    curr_heur[index] = score\n",
    "                    _attributes[index][0] = cur_name\n",
    "            # check if other form of dollar was already found\n",
    "            cur_name, pattern, score = _currencies_patterns[0]\n",
    "            if curr_heur[index] != NON_US_DOLLAR_SCORE and pattern.findall(entry):\n",
    "                curr_heur[index] = score\n",
    "                _attributes[index][0] = cur_name    # US_DOLLAR\n",
    "\n",
    "        # apply scores\n",
    "        for index, points in curr_heur.items():\n",
    "            _heuristics[index] += points\n",
    "        return _attributes\n",
    "\n",
    "\n",
    "    def equivalency_heuristic(_heuristics: dict[int, int], _entries: list[str], _attributes: dict[int, MONEY_ATTRIBUTES]) -> None:\n",
    "        \"\"\"\n",
    "        Some entries already include conversions for a more recent timestamp than when the movie originally released.\n",
    "        We want to utilize this extra information since this is more often more accurate (somtimes even the only) information.\n",
    "        We give an additional +5 score for more recent information.\n",
    "\n",
    "        This method additionally also filters out the pure number for equivalency terms only\n",
    "        \"\"\"\n",
    "        for index, entry in enumerate(_entries):\n",
    "            for _capture, currency, amount, year in _equivalent_pattern.findall(entry):\n",
    "                _heuristics[index] += 5\n",
    "                _attributes[index][1] = int(year)    # get date of already converted money\n",
    "                # get currency of converted money\n",
    "                for cur_name, pattern, _ in _currencies_patterns[::-1]:\n",
    "                    if pattern.findall(currency):\n",
    "                        _attributes[index][0] = cur_name\n",
    "                        _entries[index] = amount\n",
    "                        break   # don't check for multiple possibilites\n",
    "\n",
    "\n",
    "    def pure_number_filter(_entries: list[str], _attributes: dict[int, MONEY_ATTRIBUTES]) -> list[int]:\n",
    "        \"\"\"\n",
    "        Get number with associated currency (_entries MUST have run through currency_heuristic!)\n",
    "\n",
    "        @return list with number only, type of currency is stored in attributes\n",
    "        \"\"\"\n",
    "        def get_max_number(_entry: str) -> int:\n",
    "            max: int = 0\n",
    "            for str_num in _number_pattern.findall(_entry):\n",
    "                num = int(str_num)  # shouldn't raise exceptions since guarded by regex\n",
    "                if num > max:\n",
    "                    max = num\n",
    "            return max\n",
    "        \n",
    "        ret_entries: list[int] = _entries.copy()\n",
    "        for index, entry in enumerate(_entries):\n",
    "            pattern = None\n",
    "            # get correct pattern (no dictionary used because of undeterministic order within the data structure)\n",
    "            for cur_name, _pattern, _ in _currencies_patterns:\n",
    "                if _attributes[index][0] == cur_name:\n",
    "                    pattern = _pattern\n",
    "                    break\n",
    "            if pattern:\n",
    "                # found pattern to currency, use first and last capture group to get amount\n",
    "                for capture_groups in pattern.findall(entry):\n",
    "                    if capture_groups[-1]:  # is empty if no number behind currency (is most likely the case)\n",
    "                        ret_entries[index] = int(capture_groups[-1])\n",
    "                    elif capture_groups[0]:  # is empty if no number before currency (happens somtimes)\n",
    "                        ret_entries[index] = int(capture_groups[0])\n",
    "                    else:   # Can happen due to equivalency_heuristic. should not happen otherwise\n",
    "                        ret_entries[index] = get_max_number(entry)\n",
    "            else:\n",
    "                # unidentified currency, just get highest number, currency will be inferred by country of origin (or rather just Dollar?)\n",
    "                ret_entries[index] = get_max_number(entry)\n",
    "        return ret_entries\n",
    "\n",
    "\n",
    "    # filter unwanted characters ',' (in numbers)\n",
    "    filtered_entries: list[str] = [item.replace(\",\", \"\").strip().lower() for item in entries]\n",
    "\n",
    "    # we assume a box office to include numbers in their string (could also be year, but most of the times)\n",
    "    # if there isn't a number, concatenate the string with the entry left to it (or right in case its the first index) \n",
    "    to_keep: list[int] = []\n",
    "    for index, entry in enumerate(filtered_entries):\n",
    "        if not _number_pattern.findall(entry):\n",
    "            if (index-1) not in to_keep and index+1 < len(filtered_entries):\n",
    "                filtered_entries[index+1] = f\"{entry} {filtered_entries[index+1]}\"\n",
    "            elif to_keep:\n",
    "                filtered_entries[to_keep[-1]] += f\" {entry}\"\n",
    "        else:\n",
    "            to_keep.append(index)\n",
    "    # remove entry that was concatenated\n",
    "    _filtered_entries = []\n",
    "    for keep in to_keep:\n",
    "        _filtered_entries.append(filtered_entries[keep])\n",
    "    del filtered_entries\n",
    "    filtered_entries = _filtered_entries\n",
    "\n",
    "    # convert 'million' 'billion' 'crore' into numbers\n",
    "    for index, entry in enumerate(filtered_entries):\n",
    "        # print(entry)\n",
    "        filtered_entries[index] = entry\n",
    "        # try this pattern first in case string starts directly with number\n",
    "        for capture, _float, mbil in _reduced_mbillion_pattern.findall(entry):\n",
    "            replace_with = str(int(float(_float) * multiplier(mbil)))\n",
    "            # crore is special case since its also the currency itself and not only a multiplier\n",
    "            if \"crore\" in capture:\n",
    "                # indian rupees\n",
    "                replace_with = f\"₹{replace_with}\"\n",
    "            filtered_entries[index] = filtered_entries[index].replace(capture, replace_with)\n",
    "        # try the extended pattern\n",
    "        for capture, _float, mbil in _mbillion_pattern.findall(filtered_entries[index]):\n",
    "            replace_with = str(int(float(_float) * multiplier(mbil)))\n",
    "            # crore is special case since its also the currency itself and not only a multiplier\n",
    "            if \"crore\" in capture:\n",
    "                # indian rupees\n",
    "                replace_with = f\"₹{replace_with}\"\n",
    "            filtered_entries[index] = filtered_entries[index].replace(capture, replace_with)\n",
    "    \n",
    "    if filtered_entries:\n",
    "        # apply heuristics, select best candidate\n",
    "        # selection based on index\n",
    "        heuristics: dict[int, int] = {_ind: 1 for _ind in range(len(filtered_entries))}\n",
    "        \n",
    "        amount_heuristic(heuristics, filtered_entries)\n",
    "        attributes: dict[int, MONEY_ATTRIBUTES] = currency_heuristic(heuristics, filtered_entries)\n",
    "        equivalency_heuristic(heuristics, filtered_entries, attributes)\n",
    "\n",
    "        # get pure numbers only\n",
    "        filtered_entries: list[int] = pure_number_filter(filtered_entries, attributes)\n",
    "        \n",
    "        # get entry with highest heuristic score\n",
    "        _argmax = -1\n",
    "        max_score = -1\n",
    "        for index, score in heuristics.items():\n",
    "            if score > max_score:\n",
    "                max_score = score\n",
    "                _argmax = index\n",
    "        return filtered_entries[_argmax], attributes[_argmax]\n",
    "    return None\n"
   ]
  },
  {
   "cell_type": "code",
   "execution_count": 55,
   "metadata": {},
   "outputs": [
    {
     "name": "stdout",
     "output_type": "stream",
     "text": [
      "['321']\n",
      "['123123123', '123']\n",
      "[]\n",
      "[('3.12 million', '3.12', 'million'), ('5.21 billions', '5.21', 'billions')]\n",
      "[('us$26000000 in 2020', 'us$', '26000000', '2020')]\n",
      "[('', '¥', '')]\n"
     ]
    },
    {
     "data": {
      "text/plain": "('4000000', ['US_DOLLAR', 2020])"
     },
     "execution_count": 55,
     "metadata": {},
     "output_type": "execute_result"
    }
   ],
   "source": [
    "# Local Tests\n",
    "test_number = \"asddhasdha asdhasiodhausdh 321 dasdhadsad\"\n",
    "test_number2 = \"a da 123123123 asd 123\"\n",
    "print(_number_pattern.findall(test_number))\n",
    "print(_number_pattern.findall(test_number2))\n",
    "\n",
    "test_mb = \"da d, $3.12 million das 5.21 billions\"\n",
    "#_mbillion_pattern.match(test_mb)\n",
    "print(_reduced_mbillion_pattern.findall(test_mb))\n",
    "print(_mbillion_pattern.findall(test_mb))\n",
    "\n",
    "test_ep = \"(us$26000000 in 2020\"   # \"d asd asdd ( us$26000000 in 2020\"\n",
    "print(_equivalent_pattern.findall(test_ep))\n",
    "\n",
    "test_currency = \"¥\" # \"cn¥\" should not be found\n",
    "print(_currencies_patterns[8][1].findall(test_currency))\n",
    "\n",
    "money_heuristic([\"da\", \"d, \", \" 3.12 million das 5.21 billions\", \"$5.12 million\", \"3 crore\", \"to $4 million in 2020\", \"hk$6,384,789\"])"
   ]
  },
  {
   "cell_type": "code",
   "execution_count": 56,
   "metadata": {},
   "outputs": [
    {
     "name": "stderr",
     "output_type": "stream",
     "text": [
      "/tmp/ipykernel_44036/31887919.py:27: SettingWithCopyWarning: \n",
      "A value is trying to be set on a copy of a slice from a DataFrame.\n",
      "Try using .loc[row_indexer,col_indexer] = value instead\n",
      "\n",
      "See the caveats in the documentation: https://pandas.pydata.org/pandas-docs/stable/user_guide/indexing.html#returning-a-view-versus-a-copy\n",
      "  dataframe[\"box_office\"] = transform_money(\"box_office\")\n",
      "/tmp/ipykernel_44036/31887919.py:28: SettingWithCopyWarning: \n",
      "A value is trying to be set on a copy of a slice from a DataFrame.\n",
      "Try using .loc[row_indexer,col_indexer] = value instead\n",
      "\n",
      "See the caveats in the documentation: https://pandas.pydata.org/pandas-docs/stable/user_guide/indexing.html#returning-a-view-versus-a-copy\n",
      "  dataframe[\"budget\"] = transform_money(\"budget\")\n"
     ]
    }
   ],
   "source": [
    "# Apply heuristic selection and inflation and conversion to database\n",
    "\n",
    "def transform_money(money_tag: str) -> \"pd.DataFrame\":\n",
    "    box_off = dataframe[money_tag].copy()\n",
    "    for key, entries in dataframe[money_tag].items():\n",
    "        final_value = None\n",
    "        if entries:\n",
    "            val_att = money_heuristic(entries)\n",
    "            if val_att:\n",
    "                value: float = float(val_att[0])\n",
    "                currency, year = val_att[1]   # list[CURRENCY, YEAR]\n",
    "                # for simplicity, if no currency is given, we will just use dollar\n",
    "                if not currency:\n",
    "                    currency = \"US_DOLLAR\"\n",
    "                if not year:\n",
    "                    year = dataframe[key:key+1][\"year\"][key]\n",
    "                date_str = dataframe[key:key+1][\"release_date\"][key]\n",
    "                month = None\n",
    "                if date_str:\n",
    "                    month = parse(date_str).month\n",
    "                \n",
    "                final_value = convert_value_to_recent_us_dollar(currency, value, year, month)\n",
    "        box_off[key:key+1][key] = final_value\n",
    "    return box_off\n",
    "\n",
    "dataframe.reset_index(inplace=True, drop=True)\n",
    "dataframe[\"box_office\"] = transform_money(\"box_office\")\n",
    "dataframe[\"budget\"] = transform_money(\"budget\")"
   ]
  },
  {
   "cell_type": "markdown",
   "metadata": {},
   "source": [
    "### All monetary Values are now in dollar "
   ]
  },
  {
   "cell_type": "code",
   "execution_count": 57,
   "metadata": {},
   "outputs": [
    {
     "data": {
      "text/plain": "       Unnamed: 0                title  year  critics_count  critics_score  \\\n0             0.0  10 Rillington Place  1971             13           62.0   \n1             1.0           100 Rifles  1969              2            NaN   \n2             2.0  1001 Arabian Nights  1959              0            NaN   \n3             3.0    10:30 P.M. Summer  1966              4            NaN   \n4             4.0  13 Frightened Girls  1963              3            NaN   \n...           ...                  ...   ...            ...            ...   \n18816         NaN             Defiance  2008            189           59.0   \n18817         NaN   Last Chance Harvey  2008            157           71.0   \n18818         NaN           The Spirit  2008            115           14.0   \n18819         NaN    Waltz with Bashir  2008            154           96.0   \n18820         NaN   Revolutionary Road  2008            215           67.0   \n\n       audience_count  audience_score  \\\n0                1000            85.0   \n1                 500            41.0   \n2                   0             NaN   \n3                  50            32.0   \n4                  50            17.0   \n...               ...             ...   \n18816          250000            72.0   \n18817           25000            53.0   \n18818          100000            25.0   \n18819           25000            91.0   \n18820          100000            71.0   \n\n                                          suppliers_list  rottentomatoes_year  \\\n0      [('vudu', 'Rent/buy'), ('amazon-prime-video-us...                 1971   \n1      [('vudu', 'Rent/buy'), ('amazon-prime-video-us...                 1969   \n2                                                    NaN                 1959   \n3                                                    NaN                 1966   \n4      [('vudu', 'Rent/buy'), ('amazon-prime-video-us...                 1963   \n...                                                  ...                  ...   \n18816  [('vudu', 'Rent/buy'), ('amazon-prime-video-us...                 2008   \n18817  [('vudu', 'Rent/buy'), ('amazon-prime-video-us...                 2008   \n18818  [('vudu', 'Rent/buy'), ('amazon-prime-video-us...                 2008   \n18819  [('vudu', 'Rent/buy'), ('amazon-prime-video-us...                 2008   \n18820  [('vudu', 'Rent/buy'), ('showtime', 'Subscript...                 2008   \n\n            rottentomatoes_genre  ...      cinematography  \\\n0                          Drama  ...        [denys coop]   \n1                        Western  ...  [cecilio paniagua]   \n2          Kids & family/Fantasy  ...                None   \n3       Drama/Mystery & thriller  ...      [gábor pogány]   \n4             Mystery & thriller  ...       [gordon avil]   \n...                          ...  ...                 ...   \n18816              History/Drama  ...     [eduardo serra]   \n18817                    Romance  ...    [john de borman]   \n18818           Action/Adventure  ...         [bill pope]   \n18819      Documentary/Animation  ...                None   \n18820                      Drama  ...     [roger deakins]   \n\n               directed_by release_date  \\\n0      [richard fleischer]   1971-01-29   \n1              [tom gries]   1969-03-26   \n2            [jack kinney]   1959-12-01   \n3           [jules dassin]   1966-10-24   \n4         [william castle]   1963-07-21   \n...                    ...          ...   \n18816       [edward zwick]   2008-12-31   \n18817       [joel hopkins]   2008-12-25   \n18818       [frank miller]   2008-12-25   \n18819         [ari folman]   2008-05-13   \n18820         [sam mendes]   2008-12-26   \n\n                                      production_company  \\\n0               [genesis productions, filmways pictures]   \n1                          [marvin schwartz productions]   \n2                                                  [upa]   \n3                                                   None   \n4                              [william castle pictures]   \n...                                                  ...   \n18816  [paramount vantage, bedford falls productions,...   \n18817                                               None   \n18818  [oddlot entertainment darklot entertainment li...   \n18819  [bridgit folman film gang, les films d'ici, ra...   \n18820  [evamere entertainment, paramount vantage, dre...   \n\n                               country   running_time  \\\n0                     [united kingdom]      [111 min]   \n1                      [united states]  [110 minutes]   \n2                      [united states]   [75 minutes]   \n3                      [united states]   [85 minutes]   \n4                      [united states]   [89 minutes]   \n...                                ...            ...   \n18816                  [united states]  [137 minutes]   \n18817                  [united states]   [92 minutes]   \n18818                  [united states]  [103 minutes]   \n18819        [germany, france, israel]   [90 minutes]   \n18820  [united kingdom, united states]  [119 minutes]   \n\n                                                starring    box_office  \\\n0         [richard attenborough, judy geeson, john hurt]          None   \n1               [jim brown, raquel welch, burt reynolds]   28530691.27   \n2      [jim backus, kathryn grant, dwayne hickman, ha...          None   \n3                      [melina mercouri, romy schneider]          None   \n4      [kathy dunn, murray hamilton, joyce taylor, hu...          None   \n...                                                  ...           ...   \n18816  [daniel craig, liev schreiber, jamie bell, ale...   71668919.04   \n18817  [dustin hoffman, emma thompson, kathy baker, j...   45492966.18   \n18818  [gabriel macht, eva mendes, sarah paulson, dan...   54591559.42   \n18819                                       [ari folman]   15078280.61   \n18820  [leonardo dicaprio, kate winslet, michael shan...  106383551.69   \n\n            budget                                         written_by  \n0             None                                               None  \n1      31954374.22                                               None  \n2      20018619.14  [dick shaw, leo salkin, lew keller, ed nofzige...  \n3             None          [(novel), jules dassin, marguerite duras]  \n4             None                             [otis l. guernsey jr.]  \n...            ...                                                ...  \n18816  44793074.39                    [clayton frohman, edward zwick]  \n18817   6998917.87                                     [joel hopkins]  \n18818   83987014.5                                               None  \n18819   1765924.75                                       [ari folman]  \n18820  48992425.12                                               None  \n\n[18821 rows x 27 columns]",
      "text/html": "<div>\n<style scoped>\n    .dataframe tbody tr th:only-of-type {\n        vertical-align: middle;\n    }\n\n    .dataframe tbody tr th {\n        vertical-align: top;\n    }\n\n    .dataframe thead th {\n        text-align: right;\n    }\n</style>\n<table border=\"1\" class=\"dataframe\">\n  <thead>\n    <tr style=\"text-align: right;\">\n      <th></th>\n      <th>Unnamed: 0</th>\n      <th>title</th>\n      <th>year</th>\n      <th>critics_count</th>\n      <th>critics_score</th>\n      <th>audience_count</th>\n      <th>audience_score</th>\n      <th>suppliers_list</th>\n      <th>rottentomatoes_year</th>\n      <th>rottentomatoes_genre</th>\n      <th>...</th>\n      <th>cinematography</th>\n      <th>directed_by</th>\n      <th>release_date</th>\n      <th>production_company</th>\n      <th>country</th>\n      <th>running_time</th>\n      <th>starring</th>\n      <th>box_office</th>\n      <th>budget</th>\n      <th>written_by</th>\n    </tr>\n  </thead>\n  <tbody>\n    <tr>\n      <th>0</th>\n      <td>0.0</td>\n      <td>10 Rillington Place</td>\n      <td>1971</td>\n      <td>13</td>\n      <td>62.0</td>\n      <td>1000</td>\n      <td>85.0</td>\n      <td>[('vudu', 'Rent/buy'), ('amazon-prime-video-us...</td>\n      <td>1971</td>\n      <td>Drama</td>\n      <td>...</td>\n      <td>[denys coop]</td>\n      <td>[richard fleischer]</td>\n      <td>1971-01-29</td>\n      <td>[genesis productions, filmways pictures]</td>\n      <td>[united kingdom]</td>\n      <td>[111 min]</td>\n      <td>[richard attenborough, judy geeson, john hurt]</td>\n      <td>None</td>\n      <td>None</td>\n      <td>None</td>\n    </tr>\n    <tr>\n      <th>1</th>\n      <td>1.0</td>\n      <td>100 Rifles</td>\n      <td>1969</td>\n      <td>2</td>\n      <td>NaN</td>\n      <td>500</td>\n      <td>41.0</td>\n      <td>[('vudu', 'Rent/buy'), ('amazon-prime-video-us...</td>\n      <td>1969</td>\n      <td>Western</td>\n      <td>...</td>\n      <td>[cecilio paniagua]</td>\n      <td>[tom gries]</td>\n      <td>1969-03-26</td>\n      <td>[marvin schwartz productions]</td>\n      <td>[united states]</td>\n      <td>[110 minutes]</td>\n      <td>[jim brown, raquel welch, burt reynolds]</td>\n      <td>28530691.27</td>\n      <td>31954374.22</td>\n      <td>None</td>\n    </tr>\n    <tr>\n      <th>2</th>\n      <td>2.0</td>\n      <td>1001 Arabian Nights</td>\n      <td>1959</td>\n      <td>0</td>\n      <td>NaN</td>\n      <td>0</td>\n      <td>NaN</td>\n      <td>NaN</td>\n      <td>1959</td>\n      <td>Kids &amp; family/Fantasy</td>\n      <td>...</td>\n      <td>None</td>\n      <td>[jack kinney]</td>\n      <td>1959-12-01</td>\n      <td>[upa]</td>\n      <td>[united states]</td>\n      <td>[75 minutes]</td>\n      <td>[jim backus, kathryn grant, dwayne hickman, ha...</td>\n      <td>None</td>\n      <td>20018619.14</td>\n      <td>[dick shaw, leo salkin, lew keller, ed nofzige...</td>\n    </tr>\n    <tr>\n      <th>3</th>\n      <td>3.0</td>\n      <td>10:30 P.M. Summer</td>\n      <td>1966</td>\n      <td>4</td>\n      <td>NaN</td>\n      <td>50</td>\n      <td>32.0</td>\n      <td>NaN</td>\n      <td>1966</td>\n      <td>Drama/Mystery &amp; thriller</td>\n      <td>...</td>\n      <td>[gábor pogány]</td>\n      <td>[jules dassin]</td>\n      <td>1966-10-24</td>\n      <td>None</td>\n      <td>[united states]</td>\n      <td>[85 minutes]</td>\n      <td>[melina mercouri, romy schneider]</td>\n      <td>None</td>\n      <td>None</td>\n      <td>[(novel), jules dassin, marguerite duras]</td>\n    </tr>\n    <tr>\n      <th>4</th>\n      <td>4.0</td>\n      <td>13 Frightened Girls</td>\n      <td>1963</td>\n      <td>3</td>\n      <td>NaN</td>\n      <td>50</td>\n      <td>17.0</td>\n      <td>[('vudu', 'Rent/buy'), ('amazon-prime-video-us...</td>\n      <td>1963</td>\n      <td>Mystery &amp; thriller</td>\n      <td>...</td>\n      <td>[gordon avil]</td>\n      <td>[william castle]</td>\n      <td>1963-07-21</td>\n      <td>[william castle pictures]</td>\n      <td>[united states]</td>\n      <td>[89 minutes]</td>\n      <td>[kathy dunn, murray hamilton, joyce taylor, hu...</td>\n      <td>None</td>\n      <td>None</td>\n      <td>[otis l. guernsey jr.]</td>\n    </tr>\n    <tr>\n      <th>...</th>\n      <td>...</td>\n      <td>...</td>\n      <td>...</td>\n      <td>...</td>\n      <td>...</td>\n      <td>...</td>\n      <td>...</td>\n      <td>...</td>\n      <td>...</td>\n      <td>...</td>\n      <td>...</td>\n      <td>...</td>\n      <td>...</td>\n      <td>...</td>\n      <td>...</td>\n      <td>...</td>\n      <td>...</td>\n      <td>...</td>\n      <td>...</td>\n      <td>...</td>\n      <td>...</td>\n    </tr>\n    <tr>\n      <th>18816</th>\n      <td>NaN</td>\n      <td>Defiance</td>\n      <td>2008</td>\n      <td>189</td>\n      <td>59.0</td>\n      <td>250000</td>\n      <td>72.0</td>\n      <td>[('vudu', 'Rent/buy'), ('amazon-prime-video-us...</td>\n      <td>2008</td>\n      <td>History/Drama</td>\n      <td>...</td>\n      <td>[eduardo serra]</td>\n      <td>[edward zwick]</td>\n      <td>2008-12-31</td>\n      <td>[paramount vantage, bedford falls productions,...</td>\n      <td>[united states]</td>\n      <td>[137 minutes]</td>\n      <td>[daniel craig, liev schreiber, jamie bell, ale...</td>\n      <td>71668919.04</td>\n      <td>44793074.39</td>\n      <td>[clayton frohman, edward zwick]</td>\n    </tr>\n    <tr>\n      <th>18817</th>\n      <td>NaN</td>\n      <td>Last Chance Harvey</td>\n      <td>2008</td>\n      <td>157</td>\n      <td>71.0</td>\n      <td>25000</td>\n      <td>53.0</td>\n      <td>[('vudu', 'Rent/buy'), ('amazon-prime-video-us...</td>\n      <td>2008</td>\n      <td>Romance</td>\n      <td>...</td>\n      <td>[john de borman]</td>\n      <td>[joel hopkins]</td>\n      <td>2008-12-25</td>\n      <td>None</td>\n      <td>[united states]</td>\n      <td>[92 minutes]</td>\n      <td>[dustin hoffman, emma thompson, kathy baker, j...</td>\n      <td>45492966.18</td>\n      <td>6998917.87</td>\n      <td>[joel hopkins]</td>\n    </tr>\n    <tr>\n      <th>18818</th>\n      <td>NaN</td>\n      <td>The Spirit</td>\n      <td>2008</td>\n      <td>115</td>\n      <td>14.0</td>\n      <td>100000</td>\n      <td>25.0</td>\n      <td>[('vudu', 'Rent/buy'), ('amazon-prime-video-us...</td>\n      <td>2008</td>\n      <td>Action/Adventure</td>\n      <td>...</td>\n      <td>[bill pope]</td>\n      <td>[frank miller]</td>\n      <td>2008-12-25</td>\n      <td>[oddlot entertainment darklot entertainment li...</td>\n      <td>[united states]</td>\n      <td>[103 minutes]</td>\n      <td>[gabriel macht, eva mendes, sarah paulson, dan...</td>\n      <td>54591559.42</td>\n      <td>83987014.5</td>\n      <td>None</td>\n    </tr>\n    <tr>\n      <th>18819</th>\n      <td>NaN</td>\n      <td>Waltz with Bashir</td>\n      <td>2008</td>\n      <td>154</td>\n      <td>96.0</td>\n      <td>25000</td>\n      <td>91.0</td>\n      <td>[('vudu', 'Rent/buy'), ('amazon-prime-video-us...</td>\n      <td>2008</td>\n      <td>Documentary/Animation</td>\n      <td>...</td>\n      <td>None</td>\n      <td>[ari folman]</td>\n      <td>2008-05-13</td>\n      <td>[bridgit folman film gang, les films d'ici, ra...</td>\n      <td>[germany, france, israel]</td>\n      <td>[90 minutes]</td>\n      <td>[ari folman]</td>\n      <td>15078280.61</td>\n      <td>1765924.75</td>\n      <td>[ari folman]</td>\n    </tr>\n    <tr>\n      <th>18820</th>\n      <td>NaN</td>\n      <td>Revolutionary Road</td>\n      <td>2008</td>\n      <td>215</td>\n      <td>67.0</td>\n      <td>100000</td>\n      <td>71.0</td>\n      <td>[('vudu', 'Rent/buy'), ('showtime', 'Subscript...</td>\n      <td>2008</td>\n      <td>Drama</td>\n      <td>...</td>\n      <td>[roger deakins]</td>\n      <td>[sam mendes]</td>\n      <td>2008-12-26</td>\n      <td>[evamere entertainment, paramount vantage, dre...</td>\n      <td>[united kingdom, united states]</td>\n      <td>[119 minutes]</td>\n      <td>[leonardo dicaprio, kate winslet, michael shan...</td>\n      <td>106383551.69</td>\n      <td>48992425.12</td>\n      <td>None</td>\n    </tr>\n  </tbody>\n</table>\n<p>18821 rows × 27 columns</p>\n</div>"
     },
     "execution_count": 57,
     "metadata": {},
     "output_type": "execute_result"
    }
   ],
   "source": [
    "dataframe"
   ]
  },
  {
   "cell_type": "code",
   "execution_count": 68,
   "metadata": {},
   "outputs": [],
   "source": [
    "if \"level_0\" in dataframe.keys():\n",
    "    dataframe.drop(columns=[\"level_0\"], inplace=True)\n",
    "if \"Unnamed: 0\" in dataframe.keys():\n",
    "    dataframe.drop(columns=[\"Unnamed: 0\"], inplace=True)\n",
    "\n",
    "dataframe.to_csv(Path(local_path, \"film_info_simple.csv\"), index=False)"
   ]
  },
  {
   "cell_type": "code",
   "execution_count": 71,
   "outputs": [],
   "source": [
    "dataframe.to_parquet(\"film_info_simple.parquet\", engine=\"pyarrow\", index=True)"
   ],
   "metadata": {
    "collapsed": false,
    "pycharm": {
     "name": "#%%\n"
    }
   }
  },
  {
   "cell_type": "code",
   "execution_count": 72,
   "outputs": [
    {
     "data": {
      "text/plain": "Index(['title', 'year', 'critics_count', 'critics_score', 'audience_count',\n       'audience_score', 'suppliers_list', 'rottentomatoes_year',\n       'rottentomatoes_genre', 'rottentomatoes_length', 'infobox',\n       'produced_by', 'distributed_by', 'language', 'edited_by', 'music_by',\n       'cinematography', 'directed_by', 'release_date', 'production_company',\n       'country', 'running_time', 'starring', 'box_office', 'budget',\n       'written_by'],\n      dtype='object')"
     },
     "execution_count": 72,
     "metadata": {},
     "output_type": "execute_result"
    }
   ],
   "source": [
    "dataframe.keys()"
   ],
   "metadata": {
    "collapsed": false,
    "pycharm": {
     "name": "#%%\n"
    }
   }
  }
 ],
 "metadata": {
  "kernelspec": {
   "display_name": "Python 3",
   "language": "python",
   "name": "python3"
  },
  "language_info": {
   "codemirror_mode": {
    "name": "ipython",
    "version": 3
   },
   "file_extension": ".py",
   "mimetype": "text/x-python",
   "name": "python",
   "nbconvert_exporter": "python",
   "pygments_lexer": "ipython3",
   "version": "3.7.3"
  },
  "vscode": {
   "interpreter": {
    "hash": "26de051ba29f2982a8de78e945f0abaf191376122a1563185a90213a26c5da77"
   }
  }
 },
 "nbformat": 4,
 "nbformat_minor": 2
}